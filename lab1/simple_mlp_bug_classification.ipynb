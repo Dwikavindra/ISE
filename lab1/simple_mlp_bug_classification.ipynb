{
 "cells": [
  {
   "cell_type": "code",
   "execution_count": 1,
   "metadata": {},
   "outputs": [
    {
     "name": "stderr",
     "output_type": "stream",
     "text": [
      "[nltk_data] Downloading package stopwords to /Users/dwika/nltk_data...\n",
      "[nltk_data]   Package stopwords is already up-to-date!\n"
     ]
    }
   ],
   "source": [
    "\n",
    "import pandas as pd\n",
    "import numpy as np\n",
    "import re\n",
    "import math\n",
    "import os\n",
    "import subprocess\n",
    "\n",
    "# Text and feature engineering\n",
    "from sklearn.feature_extraction.text import TfidfVectorizer\n",
    "\n",
    "# Evaluation and tuning\n",
    "from sklearn.model_selection import train_test_split, GridSearchCV\n",
    "from sklearn.metrics import (accuracy_score, precision_score, recall_score,\n",
    "                             f1_score, roc_curve, auc)\n",
    "\n",
    "# Classifier\n",
    "from sklearn.naive_bayes import GaussianNB\n",
    "\n",
    "# Text cleaning & stopwords\n",
    "import nltk\n",
    "nltk.download('stopwords')\n",
    "from nltk.corpus import stopwords"
   ]
  },
  {
   "cell_type": "code",
   "execution_count": 2,
   "metadata": {},
   "outputs": [
    {
     "name": "stderr",
     "output_type": "stream",
     "text": [
      "[nltk_data] Downloading package stopwords to /Users/dwika/nltk_data...\n",
      "[nltk_data]   Package stopwords is already up-to-date!\n"
     ]
    },
    {
     "name": "stdout",
     "output_type": "stream",
     "text": [
      "=== Naive Bayes + TF-IDF Results ===\n",
      "Number of repeats:     10\n",
      "Average Accuracy:      0.6238\n",
      "Average Precision:     0.6056\n",
      "Average Recall:        0.7402\n",
      "Average F1 score:      0.5519\n",
      "Average AUC:           0.7402\n",
      "\n",
      "Results have been saved to: ../pytorch_NB.csv\n"
     ]
    }
   ],
   "source": [
    "from br_classification import remove_html,remove_emoji,remove_stopwords,clean_str\n"
   ]
  },
  {
   "cell_type": "markdown",
   "metadata": {},
   "source": [
    "# Testing to see if trained model works well with changing datasets"
   ]
  },
  {
   "cell_type": "code",
   "execution_count": 3,
   "metadata": {},
   "outputs": [],
   "source": [
    "import matplotlib.pyplot as plt"
   ]
  },
  {
   "cell_type": "code",
   "execution_count": 4,
   "metadata": {},
   "outputs": [],
   "source": [
    "project = 'pytorch'\n",
    "path = f'datasets/{project}.csv'\n",
    "\n",
    "pd_all = pd.read_csv(path)\n",
    "pd_all = pd_all.sample(frac=1, random_state=999)  # Shuffle\n",
    "\n",
    "# Merge Title and Body into a single column; if Body is NaN, use Title only\n",
    "pd_all['Title+Body'] = pd_all.apply(\n",
    "    lambda row: row['Title'] + '. ' + row['Body'] if pd.notna(row['Body']) else row['Title'],\n",
    "    axis=1\n",
    ")\n",
    "\n",
    "# Keep only necessary columns: id, Number, sentiment, text (merged Title+Body)\n",
    "pd_tplusb = pd_all.rename(columns={\n",
    "    \"Unnamed: 0\": \"id\",\n",
    "    \"class\": \"sentiment\",\n",
    "    \"Title+Body\": \"text\"\n",
    "})\n",
    "pd_tplusb.to_csv('Title+Body.csv', index=False, columns=[\"id\", \"Number\", \"sentiment\", \"text\"])\n",
    "\n",
    "########## 4. Configure parameters & Start training ##########\n",
    "\n",
    "# ========== Key Configurations ==========\n",
    "\n",
    "# 1) Data file to read\n",
    "datafile = 'Title+Body.csv'\n",
    "\n",
    "# 2) Number of repeated experiments\n",
    "REPEAT = 10\n",
    "\n",
    "# 3) Output CSV file name\n",
    "out_csv_name = f'../{project}_NB.csv'\n",
    "\n",
    "# ========== Read and clean data ==========\n",
    "data = pd.read_csv(datafile).fillna('')\n",
    "text_col = 'text'\n",
    "\n",
    "# Keep a copy for referencing original data if needed\n",
    "original_data = data.copy()"
   ]
  },
  {
   "cell_type": "code",
   "execution_count": 5,
   "metadata": {},
   "outputs": [],
   "source": [
    "data[text_col] = data[text_col].apply(remove_html)\n",
    "data[text_col] = data[text_col].apply(remove_emoji)\n",
    "data[text_col] = data[text_col].apply(remove_stopwords)\n",
    "data[text_col] = data[text_col].apply(clean_str)"
   ]
  },
  {
   "cell_type": "code",
   "execution_count": 6,
   "metadata": {},
   "outputs": [],
   "source": [
    "params = {\n",
    "    'var_smoothing': np.logspace(-12, 0, 13)\n",
    "}\n"
   ]
  },
  {
   "cell_type": "code",
   "execution_count": 7,
   "metadata": {},
   "outputs": [],
   "source": [
    "accuracies  = []\n",
    "precisions  = []\n",
    "recalls     = []\n",
    "f1_scores   = []\n",
    "auc_values  = []"
   ]
  },
  {
   "cell_type": "code",
   "execution_count": 24,
   "metadata": {},
   "outputs": [],
   "source": [
    "best_clf=None"
   ]
  },
  {
   "cell_type": "code",
   "execution_count": 25,
   "metadata": {},
   "outputs": [
    {
     "name": "stdout",
     "output_type": "stream",
     "text": [
      "=== Naive Bayes + TF-IDF Results ===\n",
      "Number of repeats:     10\n",
      "Average Accuracy:      0.6238\n",
      "Average Precision:     0.6056\n",
      "Average Recall:        0.7402\n",
      "Average F1 score:      0.5519\n",
      "Average AUC:           0.7402\n",
      "\n",
      "Results have been saved to: ../pytorch_NB.csv\n"
     ]
    }
   ],
   "source": [
    "for repeated_time in range(REPEAT):\n",
    "    # --- 4.1 Split into train/test ---\n",
    "    indices = np.arange(data.shape[0])\n",
    "    train_index, test_index = train_test_split(\n",
    "        indices, test_size=0.2, random_state=repeated_time\n",
    "    )\n",
    "\n",
    "    train_text = data[text_col].iloc[train_index]\n",
    "    test_text = data[text_col].iloc[test_index]\n",
    "\n",
    "    y_train = data['sentiment'].iloc[train_index]\n",
    "    y_test  = data['sentiment'].iloc[test_index]\n",
    "\n",
    "    # --- 4.2 TF-IDF vectorization ---\n",
    "    tfidf = TfidfVectorizer(\n",
    "        ngram_range=(1, 2),\n",
    "        max_features=1000  # Adjust as needed\n",
    "    )\n",
    "    X_train = tfidf.fit_transform(train_text)\n",
    "    X_test = tfidf.transform(test_text)\n",
    "   \n",
    "    # --- 4.3 Naive Bayes model & GridSearch ---\n",
    "    clf = GaussianNB()\n",
    "    grid = GridSearchCV(\n",
    "        clf,\n",
    "        params,\n",
    "        cv=5,              # 5-fold CV (can be changed)\n",
    "        scoring='roc_auc'  # Using roc_auc as the metric for selection\n",
    "    )\n",
    "    grid.fit(X_train.toarray(), y_train)\n",
    "\n",
    "    # Retrieve the best model\n",
    "    best_clf = grid.best_estimator_\n",
    "    best_clf.fit(X_train.toarray(), y_train)\n",
    "\n",
    "    # --- 4.4 Make predictions & evaluate ---\n",
    "    y_pred = best_clf.predict(X_test.toarray())\n",
    "\n",
    "    # Accuracy\n",
    "    acc = accuracy_score(y_test, y_pred)\n",
    "    accuracies.append(acc)\n",
    "\n",
    "    # Precision (macro)\n",
    "    prec = precision_score(y_test, y_pred, average='macro')\n",
    "    precisions.append(prec)\n",
    "\n",
    "    # Recall (macro)\n",
    "    rec = recall_score(y_test, y_pred, average='macro')\n",
    "    recalls.append(rec)\n",
    "\n",
    "    # F1 Score (macro)\n",
    "    f1 = f1_score(y_test, y_pred, average='macro')\n",
    "    f1_scores.append(f1)\n",
    "\n",
    "    # AUC\n",
    "    # If labels are 0/1 only, this works directly.\n",
    "    # If labels are something else, adjust pos_label accordingly.\n",
    "    fpr, tpr, _ = roc_curve(y_test, y_pred, pos_label=1)\n",
    "    auc_val = auc(fpr, tpr)\n",
    "    auc_values.append(auc_val)\n",
    "\n",
    "# --- 4.5 Aggregate results ---\n",
    "final_accuracy  = np.mean(accuracies)\n",
    "final_precision = np.mean(precisions)\n",
    "final_recall    = np.mean(recalls)\n",
    "final_f1        = np.mean(f1_scores)\n",
    "final_auc       = np.mean(auc_values)\n",
    "\n",
    "print(\"=== Naive Bayes + TF-IDF Results ===\")\n",
    "print(f\"Number of repeats:     {REPEAT}\")\n",
    "print(f\"Average Accuracy:      {final_accuracy:.4f}\")\n",
    "print(f\"Average Precision:     {final_precision:.4f}\")\n",
    "print(f\"Average Recall:        {final_recall:.4f}\")\n",
    "print(f\"Average F1 score:      {final_f1:.4f}\")\n",
    "print(f\"Average AUC:           {final_auc:.4f}\")\n",
    "\n",
    "# Save final results to CSV (append mode)\n",
    "try:\n",
    "    # Attempt to check if the file already has a header\n",
    "    existing_data = pd.read_csv(out_csv_name, nrows=1)\n",
    "    header_needed = False\n",
    "except:\n",
    "    header_needed = True\n",
    "\n",
    "df_log = pd.DataFrame(\n",
    "    {\n",
    "        'repeated_times': [REPEAT],\n",
    "        'Accuracy': [final_accuracy],\n",
    "        'Precision': [final_precision],\n",
    "        'Recall': [final_recall],\n",
    "        'F1': [final_f1],\n",
    "        'AUC': [final_auc],\n",
    "        'CV_list(AUC)': [str(auc_values)]\n",
    "    }\n",
    ")\n",
    "\n",
    "df_log.to_csv(out_csv_name, mode='a', header=header_needed, index=False)\n",
    "\n",
    "print(f\"\\nResults have been saved to: {out_csv_name}\")"
   ]
  },
  {
   "cell_type": "code",
   "execution_count": 26,
   "metadata": {},
   "outputs": [],
   "source": [
    "accuracies  = []\n",
    "precisions  = []\n",
    "recalls     = []\n",
    "f1_scores   = []\n",
    "auc_values  = []"
   ]
  },
  {
   "cell_type": "code",
   "execution_count": 27,
   "metadata": {},
   "outputs": [],
   "source": [
    "project = 'tensorflow'\n",
    "path = f'datasets/{project}.csv'\n",
    "\n",
    "pd_all = pd.read_csv(path)\n",
    "pd_all = pd_all.sample(frac=1, random_state=999)  # Shuffle\n",
    "\n",
    "# Merge Title and Body into a single column; if Body is NaN, use Title only\n",
    "pd_all['Title+Body'] = pd_all.apply(\n",
    "    lambda row: row['Title'] + '. ' + row['Body'] if pd.notna(row['Body']) else row['Title'],\n",
    "    axis=1\n",
    ")\n",
    "\n",
    "# Keep only necessary columns: id, Number, sentiment, text (merged Title+Body)\n",
    "pd_tplusb = pd_all.rename(columns={\n",
    "    \"Unnamed: 0\": \"id\",\n",
    "    \"class\": \"sentiment\",\n",
    "    \"Title+Body\": \"text\"\n",
    "})\n",
    "pd_tplusb.to_csv('Title+BodyTensorflow.csv', index=False, columns=[\"id\", \"Number\", \"sentiment\", \"text\"])\n",
    "\n",
    "########## 4. Configure parameters & Start training ##########\n",
    "\n",
    "# ========== Key Configurations ==========\n",
    "\n",
    "# 1) Data file to read\n",
    "datafile = 'Title+Body.csv'\n",
    "\n",
    "# 2) Number of repeated experiments\n",
    "REPEAT = 10\n",
    "\n",
    "# 3) Output CSV file name\n",
    "out_csv_name = f'../{project}_NB.csv'\n",
    "\n",
    "# ========== Read and clean data ==========\n",
    "data = pd.read_csv(datafile).fillna('')\n",
    "text_col = 'text'\n",
    "\n",
    "# Keep a copy for referencing original data if needed\n",
    "original_data = data.copy()"
   ]
  },
  {
   "cell_type": "code",
   "execution_count": 28,
   "metadata": {},
   "outputs": [],
   "source": [
    "data[text_col] = data[text_col].apply(remove_html)\n",
    "data[text_col] = data[text_col].apply(remove_emoji)\n",
    "data[text_col] = data[text_col].apply(remove_stopwords)\n",
    "data[text_col] = data[text_col].apply(clean_str)"
   ]
  },
  {
   "cell_type": "code",
   "execution_count": 29,
   "metadata": {},
   "outputs": [],
   "source": [
    "indices = np.arange(data.shape[0])\n",
    "train_index, test_index = train_test_split(\n",
    "        indices, test_size=0.2, random_state=repeated_time\n",
    "    )\n",
    "\n",
    "x_data=data[text_col]\n"
   ]
  },
  {
   "cell_type": "code",
   "execution_count": 30,
   "metadata": {},
   "outputs": [],
   "source": [
    "y_train = data['sentiment']\n",
    "\n",
    "# --- 4.2 TF-IDF vectorization ---\n",
    "tfidf = TfidfVectorizer(\n",
    "    ngram_range=(1, 2),\n",
    "    max_features=1000  # Adjust as needed\n",
    ")\n",
    "X_data = tfidf.fit_transform(x_data)"
   ]
  },
  {
   "cell_type": "code",
   "execution_count": 31,
   "metadata": {},
   "outputs": [
    {
     "name": "stdout",
     "output_type": "stream",
     "text": [
      "=== Naive Bayes + TF-IDF Results ===\n",
      "Number of repeats:     10\n",
      "Average Accuracy:      0.4973\n",
      "Average Precision:     0.5365\n",
      "Average Recall:        0.5818\n",
      "Average F1 score:      0.4393\n",
      "Average AUC:           0.5818\n"
     ]
    }
   ],
   "source": [
    "for repeated_time in range(REPEAT):\n",
    "\n",
    "    y_pred = best_clf.predict(X_data.toarray())\n",
    "\n",
    "    # Accuracy\n",
    "    acc = accuracy_score(y_train, y_pred)\n",
    "    accuracies.append(acc)\n",
    "\n",
    "    # Precision (macro)\n",
    "    prec = precision_score(y_train, y_pred, average='macro')\n",
    "    precisions.append(prec)\n",
    "\n",
    "    # Recall (macro)\n",
    "    rec = recall_score(y_train, y_pred, average='macro')\n",
    "    recalls.append(rec)\n",
    "\n",
    "    # F1 Score (macro)\n",
    "    f1 = f1_score(y_train, y_pred, average='macro')\n",
    "    f1_scores.append(f1)\n",
    "\n",
    "    # AUC\n",
    "    # If labels are 0/1 only, this works directly.\n",
    "    # If labels are something else, adjust pos_label accordingly.\n",
    "    fpr, tpr, _ = roc_curve(y_train, y_pred, pos_label=1)\n",
    "    auc_val = auc(fpr, tpr)\n",
    "    auc_values.append(auc_val)\n",
    "\n",
    "    # --- 4.5 Aggregate results ---\n",
    "    final_accuracy  = np.mean(accuracies)\n",
    "    final_precision = np.mean(precisions)\n",
    "    final_recall    = np.mean(recalls)\n",
    "    final_f1        = np.mean(f1_scores)\n",
    "    final_auc       = np.mean(auc_values)\n",
    "\n",
    "print(\"=== Naive Bayes + TF-IDF Results ===\")\n",
    "print(f\"Number of repeats:     {REPEAT}\")\n",
    "print(f\"Average Accuracy:      {final_accuracy:.4f}\")\n",
    "print(f\"Average Precision:     {final_precision:.4f}\")\n",
    "print(f\"Average Recall:        {final_recall:.4f}\")\n",
    "print(f\"Average F1 score:      {final_f1:.4f}\")\n",
    "print(f\"Average AUC:           {final_auc:.4f}\")"
   ]
  }
 ],
 "metadata": {
  "kernelspec": {
   "display_name": "Python (fyp)",
   "language": "python",
   "name": "fyp"
  },
  "language_info": {
   "codemirror_mode": {
    "name": "ipython",
    "version": 3
   },
   "file_extension": ".py",
   "mimetype": "text/x-python",
   "name": "python",
   "nbconvert_exporter": "python",
   "pygments_lexer": "ipython3",
   "version": "3.11.10"
  }
 },
 "nbformat": 4,
 "nbformat_minor": 2
}
