{
 "cells": [
  {
   "cell_type": "code",
   "execution_count": 1,
   "metadata": {},
   "outputs": [
    {
     "name": "stderr",
     "output_type": "stream",
     "text": [
      "[nltk_data] Downloading package stopwords to /Users/dwika/nltk_data...\n",
      "[nltk_data]   Unzipping corpora/stopwords.zip.\n"
     ]
    }
   ],
   "source": [
    "\n",
    "import pandas as pd\n",
    "import numpy as np\n",
    "import re\n",
    "import math\n",
    "import os\n",
    "import subprocess\n",
    "\n",
    "# Text and feature engineering\n",
    "from sklearn.feature_extraction.text import TfidfVectorizer\n",
    "\n",
    "# Evaluation and tuning\n",
    "from sklearn.model_selection import train_test_split, GridSearchCV\n",
    "from sklearn.metrics import (accuracy_score, precision_score, recall_score,\n",
    "                             f1_score, roc_curve, auc)\n",
    "\n",
    "# Classifier\n",
    "from sklearn.naive_bayes import GaussianNB\n",
    "\n",
    "# Text cleaning & stopwords\n",
    "import nltk\n",
    "nltk.download('stopwords')\n",
    "from nltk.corpus import stopwords"
   ]
  },
  {
   "cell_type": "code",
   "execution_count": 2,
   "metadata": {},
   "outputs": [
    {
     "name": "stderr",
     "output_type": "stream",
     "text": [
      "[nltk_data] Downloading package stopwords to /Users/dwika/nltk_data...\n",
      "[nltk_data]   Package stopwords is already up-to-date!\n"
     ]
    },
    {
     "name": "stdout",
     "output_type": "stream",
     "text": [
      "=== Naive Bayes + TF-IDF Results ===\n",
      "Number of repeats:     10\n",
      "Average Accuracy:      0.6238\n",
      "Average Precision:     0.6056\n",
      "Average Recall:        0.7402\n",
      "Average F1 score:      0.5519\n",
      "Average AUC:           0.7402\n",
      "\n",
      "Results have been saved to: ../pytorch_NB.csv\n"
     ]
    }
   ],
   "source": [
    "from br_classification import remove_html,remove_emoji,remove_stopwords,clean_str\n"
   ]
  },
  {
   "cell_type": "code",
   "execution_count": 3,
   "metadata": {},
   "outputs": [],
   "source": [
    "NLTK_stop_words_list = stopwords.words('english')\n",
    "custom_stop_words_list = ['...']  # You can customize this list as needed\n",
    "final_stop_words_list = NLTK_stop_words_list + custom_stop_words_list\n"
   ]
  },
  {
   "cell_type": "code",
   "execution_count": 4,
   "metadata": {},
   "outputs": [],
   "source": [
    "project = 'pytorch'\n",
    "path = f'datasets/{project}.csv'\n",
    "\n",
    "pd_all = pd.read_csv(path)\n",
    "pd_all = pd_all.sample(frac=1, random_state=999)  # Shuffle\n",
    "\n",
    "# Merge Title and Body into a single column; if Body is NaN, use Title only\n",
    "pd_all['Title+Body'] = pd_all.apply(\n",
    "    lambda row: row['Title'] + '. ' + row['Body'] if pd.notna(row['Body']) else row['Title'],\n",
    "    axis=1\n",
    ")\n",
    "\n",
    "# Keep only necessary columns: id, Number, sentiment, text (merged Title+Body)\n",
    "pd_tplusb = pd_all.rename(columns={\n",
    "    \"Unnamed: 0\": \"id\",\n",
    "    \"class\": \"sentiment\",\n",
    "    \"Title+Body\": \"text\"\n",
    "})\n",
    "pd_tplusb.to_csv('Title+Body.csv', index=False, columns=[\"id\", \"Number\", \"sentiment\", \"text\"])\n"
   ]
  },
  {
   "cell_type": "code",
   "execution_count": 5,
   "metadata": {},
   "outputs": [],
   "source": [
    "project = 'pytorch'\n",
    "path = f'datasets/{project}.csv'\n",
    "\n",
    "pd_all = pd.read_csv(path)\n",
    "pd_all = pd_all.sample(frac=1, random_state=999)  # Shuffle\n"
   ]
  },
  {
   "cell_type": "code",
   "execution_count": 6,
   "metadata": {},
   "outputs": [],
   "source": [
    "########## 4. Configure parameters & Start training ##########\n",
    "\n",
    "# ========== Key Configurations ==========\n",
    "\n",
    "# 1) Data file to read\n",
    "datafile = 'Title+Body.csv'\n",
    "\n",
    "# 2) Number of repeated experiments\n",
    "REPEAT = 10\n",
    "\n",
    "# 3) Output CSV file name\n",
    "out_csv_name = f'../{project}_NB.csv'\n",
    "\n",
    "# ========== Read and clean data ==========\n",
    "data = pd.read_csv(datafile).fillna('')\n",
    "text_col = 'text'\n",
    "\n",
    "# Keep a copy for referencing original data if needed\n",
    "original_data = data.copy()\n",
    "\n",
    "# Text cleaning\n",
    "data[text_col] = data[text_col].apply(remove_html)\n",
    "data[text_col] = data[text_col].apply(remove_emoji)\n",
    "data[text_col] = data[text_col].apply(remove_stopwords)\n",
    "data[text_col] = data[text_col].apply(clean_str)\n",
    "\n",
    "# ========== Hyperparameter grid ==========\n",
    "# We use logspace for var_smoothing: [1e-12, 1e-11, ..., 1]\n",
    "params = {\n",
    "    'var_smoothing': np.logspace(-12, 0, 13)\n",
    "}\n",
    "\n",
    "# Lists to store metrics across repeated runs\n",
    "accuracies  = []\n",
    "precisions  = []\n",
    "recalls     = []\n",
    "f1_scores   = []\n",
    "auc_values  = []"
   ]
  },
  {
   "cell_type": "code",
   "execution_count": 7,
   "metadata": {},
   "outputs": [
    {
     "data": {
      "text/html": [
       "<div>\n",
       "<style scoped>\n",
       "    .dataframe tbody tr th:only-of-type {\n",
       "        vertical-align: middle;\n",
       "    }\n",
       "\n",
       "    .dataframe tbody tr th {\n",
       "        vertical-align: top;\n",
       "    }\n",
       "\n",
       "    .dataframe thead th {\n",
       "        text-align: right;\n",
       "    }\n",
       "</style>\n",
       "<table border=\"1\" class=\"dataframe\">\n",
       "  <thead>\n",
       "    <tr style=\"text-align: right;\">\n",
       "      <th></th>\n",
       "      <th>id</th>\n",
       "      <th>Number</th>\n",
       "      <th>sentiment</th>\n",
       "      <th>text</th>\n",
       "    </tr>\n",
       "  </thead>\n",
       "  <tbody>\n",
       "    <tr>\n",
       "      <th>0</th>\n",
       "      <td>688</td>\n",
       "      <td>17355</td>\n",
       "      <td>0</td>\n",
       "      <td>the python doc global op carried source. bug m...</td>\n",
       "    </tr>\n",
       "    <tr>\n",
       "      <th>1</th>\n",
       "      <td>616</td>\n",
       "      <td>13787</td>\n",
       "      <td>0</td>\n",
       "      <td>dataloader segmentation fault using mpi backen...</td>\n",
       "    </tr>\n",
       "    <tr>\n",
       "      <th>2</th>\n",
       "      <td>322</td>\n",
       "      <td>18998</td>\n",
       "      <td>0</td>\n",
       "      <td>torch.from pil( ) request ? . feature a simple...</td>\n",
       "    </tr>\n",
       "    <tr>\n",
       "      <th>3</th>\n",
       "      <td>241</td>\n",
       "      <td>4302</td>\n",
       "      <td>0</td>\n",
       "      <td>torch.halftensor object attribute mean. result...</td>\n",
       "    </tr>\n",
       "    <tr>\n",
       "      <th>4</th>\n",
       "      <td>647</td>\n",
       "      <td>367</td>\n",
       "      <td>0</td>\n",
       "      <td>support dilation conv1d conv3d</td>\n",
       "    </tr>\n",
       "    <tr>\n",
       "      <th>...</th>\n",
       "      <td>...</td>\n",
       "      <td>...</td>\n",
       "      <td>...</td>\n",
       "      <td>...</td>\n",
       "    </tr>\n",
       "    <tr>\n",
       "      <th>747</th>\n",
       "      <td>225</td>\n",
       "      <td>14864</td>\n",
       "      <td>0</td>\n",
       "      <td>discussion recommend different file extension ...</td>\n",
       "    </tr>\n",
       "    <tr>\n",
       "      <th>748</th>\n",
       "      <td>712</td>\n",
       "      <td>24991</td>\n",
       "      <td>0</td>\n",
       "      <td>feature request add support selu activation ca...</td>\n",
       "    </tr>\n",
       "    <tr>\n",
       "      <th>749</th>\n",
       "      <td>481</td>\n",
       "      <td>14653</td>\n",
       "      <td>0</td>\n",
       "      <td>jit error reporting imported modules highlight...</td>\n",
       "    </tr>\n",
       "    <tr>\n",
       "      <th>750</th>\n",
       "      <td>348</td>\n",
       "      <td>19969</td>\n",
       "      <td>0</td>\n",
       "      <td>libtorch segmentation fault rhel 7 easy reprod...</td>\n",
       "    </tr>\n",
       "    <tr>\n",
       "      <th>751</th>\n",
       "      <td>448</td>\n",
       "      <td>29117</td>\n",
       "      <td>0</td>\n",
       "      <td>tracking issue rpc tests flaky. cc ezyang gcha...</td>\n",
       "    </tr>\n",
       "  </tbody>\n",
       "</table>\n",
       "<p>752 rows × 4 columns</p>\n",
       "</div>"
      ],
      "text/plain": [
       "      id  Number  sentiment                                               text\n",
       "0    688   17355          0  the python doc global op carried source. bug m...\n",
       "1    616   13787          0  dataloader segmentation fault using mpi backen...\n",
       "2    322   18998          0  torch.from pil( ) request ? . feature a simple...\n",
       "3    241    4302          0  torch.halftensor object attribute mean. result...\n",
       "4    647     367          0                     support dilation conv1d conv3d\n",
       "..   ...     ...        ...                                                ...\n",
       "747  225   14864          0  discussion recommend different file extension ...\n",
       "748  712   24991          0  feature request add support selu activation ca...\n",
       "749  481   14653          0  jit error reporting imported modules highlight...\n",
       "750  348   19969          0  libtorch segmentation fault rhel 7 easy reprod...\n",
       "751  448   29117          0  tracking issue rpc tests flaky. cc ezyang gcha...\n",
       "\n",
       "[752 rows x 4 columns]"
      ]
     },
     "execution_count": 7,
     "metadata": {},
     "output_type": "execute_result"
    }
   ],
   "source": [
    "data"
   ]
  },
  {
   "cell_type": "code",
   "execution_count": 18,
   "metadata": {},
   "outputs": [
    {
     "data": {
      "text/plain": [
       "array([495, 251,  97, 520, 473, 401, 618, 181, 586, 261,  17, 666, 252,\n",
       "       333, 334, 293, 691, 386, 678, 465,  45, 312,  62, 712, 327, 267,\n",
       "       140, 302, 533, 127, 424, 364, 625, 144, 355,  21, 597, 392,  35,\n",
       "       456, 240, 299,  77, 746, 241, 272, 109, 242, 417, 101, 306, 258,\n",
       "       230, 576, 285, 735, 395, 356, 741, 698, 211, 253, 165, 188, 578,\n",
       "       268,  34, 545, 316, 748, 249, 460, 624, 155, 271, 427, 468, 517,\n",
       "       200, 247, 729, 319,  12, 161, 413, 453, 493, 692, 518, 159, 529,\n",
       "       428, 229,  78,  92, 523,  66, 303, 352, 609, 310, 687, 369, 409,\n",
       "       580, 667,  15, 245, 283,   6, 313, 331, 104, 436, 390, 416,  90,\n",
       "       725, 389, 452, 218, 570, 530, 205, 738, 190, 477, 367, 194, 467,\n",
       "       132, 233, 173, 178, 727, 569, 206, 536,  96, 645, 587, 425,  89,\n",
       "       553, 179,   0,  46, 171, 742, 362, 107, 133, 496, 223, 582, 102,\n",
       "       108, 213, 740, 315, 246, 602, 407, 125, 437, 583, 399, 608, 224,\n",
       "        26, 623, 527, 492,   3, 134, 325, 350, 186, 564, 295, 749, 504,\n",
       "       593, 676, 225, 616, 330, 412, 332, 358, 511, 726, 717, 489, 498,\n",
       "       380, 566, 112, 483, 661,  20,  65, 298, 126, 259, 750, 482, 339,\n",
       "       630, 137, 484,   7, 342, 689, 309, 522, 185, 513, 353, 443, 153,\n",
       "        54,  30, 640, 669, 100, 734, 619, 711, 237, 653,  56,  60, 485,\n",
       "       262, 683, 264, 699, 441, 208, 458, 432, 167,  38, 721, 648, 615,\n",
       "       300, 491, 478, 638, 163, 124, 154, 336,  59, 476, 304, 703, 590,\n",
       "       343, 419, 311, 457, 158,  51, 540, 671, 500, 361, 621, 471, 219,\n",
       "       308,  74, 282, 499, 524,   4, 604, 668, 481, 662,   5, 141, 548,\n",
       "       135, 497, 378, 672,  22, 679, 276, 284, 270, 426, 718, 281, 420,\n",
       "       220, 680, 320, 439, 372, 120,  81, 737,  13, 596, 501, 728, 720,\n",
       "       160, 733, 238, 379, 494, 601, 440, 535, 561, 195, 191, 116, 646,\n",
       "       716, 164, 106,  16,  63, 470, 384, 695, 105, 532, 706, 329, 475,\n",
       "       480, 345, 656, 405, 670,  93, 626, 433,  83, 635, 348, 584, 455,\n",
       "       198, 145, 414, 150, 558,  39, 549, 557, 686, 579, 322, 357,  69,\n",
       "       514, 509, 340, 221, 700, 146, 289,  29, 114, 508, 663, 176, 168,\n",
       "       347, 376, 571, 657, 642, 577, 189, 136, 446, 632, 254, 664, 290,\n",
       "       708, 637, 232,  33,  88,  44, 341,  61, 719, 199, 429, 563, 394,\n",
       "       297,  73, 393, 547, 541, 643, 627, 682, 217, 539, 622, 421, 138,\n",
       "       212, 634, 631, 652, 690, 234,  67,  24, 381, 216, 129, 349, 111,\n",
       "       166, 207, 438, 552, 274, 730, 731, 525, 287, 469, 326, 121, 507,\n",
       "       228, 445, 117, 464,  25, 110, 149, 152, 528, 461, 598, 139, 260,\n",
       "       323, 710, 248, 450, 410, 607,  19, 328, 296, 269, 226,  94, 515,\n",
       "       280, 286, 589, 701, 444, 184, 371, 658, 732, 275, 704, 182,  32,\n",
       "        80, 307,  11,  43,  86,  36,  58,  41, 411, 562, 209, 148, 594,\n",
       "       123, 574,  98, 377, 130,  23, 655, 555, 370, 512, 383, 201, 368,\n",
       "       554, 610, 387, 292, 256, 606, 197,  95, 724, 169, 581, 305, 560,\n",
       "       373, 227, 660, 143, 180, 131, 715,  47, 324, 203,  84, 633, 565,\n",
       "       611, 398,  91,  82, 430, 119, 291,  57, 321, 257, 713, 442,  42,\n",
       "       617, 388, 335, 273, 488, 550,  53, 736, 128,  28, 183, 459, 510,\n",
       "       675, 151, 244, 543, 544, 639, 697, 265, 288, 423, 147, 659, 177,\n",
       "        99, 448, 431, 709, 115,  72, 537, 677, 739, 174,  87, 551, 486,\n",
       "       705, 314, 396, 600, 472,  70, 599, 277, 723,   9, 359, 707, 192,\n",
       "       629, 559, 684])"
      ]
     },
     "execution_count": 18,
     "metadata": {},
     "output_type": "execute_result"
    }
   ],
   "source": [
    "indices = np.arange(data.shape[0])\n",
    "train_index, test_index = train_test_split(\n",
    "        indices, test_size=0.2, random_state=0\n",
    "    )\n",
    "train_index"
   ]
  },
  {
   "cell_type": "code",
   "execution_count": 19,
   "metadata": {},
   "outputs": [
    {
     "data": {
      "text/plain": [
       "array([647, 142, 415,  79, 214,  40, 397,  27, 263, 318, 673, 317, 422,\n",
       "        14, 572, 531,  31, 534, 651, 479, 162, 406, 344, 463, 418, 391,\n",
       "       449, 193, 346, 156, 202, 538, 722, 278, 103, 516,   8, 243, 505,\n",
       "       122, 747, 613, 568,  75, 204, 404, 157, 222,   1, 294, 434,  55,\n",
       "       650, 382, 693, 665, 363, 365, 585, 235, 542, 113, 170, 490, 636,\n",
       "       210, 674, 612, 556, 605, 337, 521, 614, 454, 567, 546, 573, 375,\n",
       "       250,  85, 236, 487, 187,  18, 172, 688, 595, 702,  50, 744, 519,\n",
       "       714, 408, 592, 385, 374,  10,  68, 279, 255,   2, 745, 451, 743,\n",
       "       654, 435, 644, 588, 696, 231, 351, 239, 400, 681, 175, 215, 366,\n",
       "       360, 591, 526,  71,  49, 266, 402, 354, 649, 502, 474,  37, 694,\n",
       "        48, 685, 628, 196, 503,  76,  64, 603,  52, 301, 403, 506, 338,\n",
       "       641, 620, 462, 466, 118, 447, 575, 751])"
      ]
     },
     "execution_count": 19,
     "metadata": {},
     "output_type": "execute_result"
    }
   ],
   "source": [
    "test_index"
   ]
  },
  {
   "cell_type": "code",
   "execution_count": 20,
   "metadata": {},
   "outputs": [
    {
     "data": {
      "text/plain": [
       "495    getting build error. i building pytorch i gett...\n",
       "251    document torch.quantize per tensor torch.quant...\n",
       "97     bug fail throw error computing loss tensors sh...\n",
       "520    feature request pytorch more flexible optimize...\n",
       "473    nccl hang pytorch distributed data parallel mi...\n",
       "                             ...                        \n",
       "707    mysterious tensor indexing problem. bug indexi...\n",
       "192    migrate ` multinomial alias setup` th aten (cp...\n",
       "629    build nccl failed build libnccl debian unstabl...\n",
       "559    switch cuda svd qr using cusolver. currently u...\n",
       "684    detach working properly stochastic variables. ...\n",
       "Name: text, Length: 601, dtype: object"
      ]
     },
     "execution_count": 20,
     "metadata": {},
     "output_type": "execute_result"
    }
   ],
   "source": [
    "train_text = data[text_col].iloc[train_index]\n",
    "train_text"
   ]
  },
  {
   "cell_type": "code",
   "execution_count": 21,
   "metadata": {},
   "outputs": [],
   "source": [
    "y_train = data['sentiment'].iloc[train_index]\n",
    "y_test  = data['sentiment'].iloc[test_index]"
   ]
  },
  {
   "cell_type": "code",
   "execution_count": 22,
   "metadata": {},
   "outputs": [],
   "source": [
    "test_text = data[text_col].iloc[test_index]"
   ]
  },
  {
   "cell_type": "code",
   "execution_count": null,
   "metadata": {},
   "outputs": [],
   "source": [
    "tfidf = TfidfVectorizer(\n",
    "        ngram_range=(1, 2),\n",
    "        max_features=1000  # Adjust as needed\n",
    "    )\n",
    "X_train = tfidf.fit_transform(train_text) # this one traisn\n",
    "X_test = tfidf.transform(test_text) "
   ]
  },
  {
   "cell_type": "code",
   "execution_count": 33,
   "metadata": {},
   "outputs": [],
   "source": [
    "feature_names = tfidf.get_feature_names_out()\n",
    "X_test_df = pd.DataFrame(X_test.toarray(), columns=feature_names)"
   ]
  },
  {
   "cell_type": "code",
   "execution_count": 34,
   "metadata": {},
   "outputs": [
    {
     "data": {
      "text/plain": [
       "(601, 1000)"
      ]
     },
     "execution_count": 34,
     "metadata": {},
     "output_type": "execute_result"
    }
   ],
   "source": [
    "X_train.shape"
   ]
  },
  {
   "cell_type": "code",
   "execution_count": 35,
   "metadata": {},
   "outputs": [],
   "source": [
    "from sklearn.decomposition import PCA"
   ]
  },
  {
   "cell_type": "code",
   "execution_count": 58,
   "metadata": {},
   "outputs": [
    {
     "data": {
      "text/html": [
       "<div>\n",
       "<style scoped>\n",
       "    .dataframe tbody tr th:only-of-type {\n",
       "        vertical-align: middle;\n",
       "    }\n",
       "\n",
       "    .dataframe tbody tr th {\n",
       "        vertical-align: top;\n",
       "    }\n",
       "\n",
       "    .dataframe thead th {\n",
       "        text-align: right;\n",
       "    }\n",
       "</style>\n",
       "<table border=\"1\" class=\"dataframe\">\n",
       "  <thead>\n",
       "    <tr style=\"text-align: right;\">\n",
       "      <th></th>\n",
       "      <th>PCA1</th>\n",
       "      <th>PCA2</th>\n",
       "      <th>PCA3</th>\n",
       "      <th>PCA4</th>\n",
       "      <th>PCA5</th>\n",
       "    </tr>\n",
       "  </thead>\n",
       "  <tbody>\n",
       "    <tr>\n",
       "      <th>0</th>\n",
       "      <td>0.217689</td>\n",
       "      <td>0.021846</td>\n",
       "      <td>0.155751</td>\n",
       "      <td>0.164019</td>\n",
       "      <td>0.001691</td>\n",
       "    </tr>\n",
       "    <tr>\n",
       "      <th>1</th>\n",
       "      <td>-0.066134</td>\n",
       "      <td>-0.121501</td>\n",
       "      <td>-0.088451</td>\n",
       "      <td>0.084968</td>\n",
       "      <td>-0.041184</td>\n",
       "    </tr>\n",
       "    <tr>\n",
       "      <th>2</th>\n",
       "      <td>0.174211</td>\n",
       "      <td>-0.099548</td>\n",
       "      <td>0.071902</td>\n",
       "      <td>0.178069</td>\n",
       "      <td>0.023275</td>\n",
       "    </tr>\n",
       "    <tr>\n",
       "      <th>3</th>\n",
       "      <td>0.053240</td>\n",
       "      <td>-0.164664</td>\n",
       "      <td>0.063138</td>\n",
       "      <td>-0.103023</td>\n",
       "      <td>-0.167831</td>\n",
       "    </tr>\n",
       "    <tr>\n",
       "      <th>4</th>\n",
       "      <td>0.439933</td>\n",
       "      <td>-0.128426</td>\n",
       "      <td>-0.329483</td>\n",
       "      <td>-0.118040</td>\n",
       "      <td>0.043788</td>\n",
       "    </tr>\n",
       "  </tbody>\n",
       "</table>\n",
       "</div>"
      ],
      "text/plain": [
       "       PCA1      PCA2      PCA3      PCA4      PCA5\n",
       "0  0.217689  0.021846  0.155751  0.164019  0.001691\n",
       "1 -0.066134 -0.121501 -0.088451  0.084968 -0.041184\n",
       "2  0.174211 -0.099548  0.071902  0.178069  0.023275\n",
       "3  0.053240 -0.164664  0.063138 -0.103023 -0.167831\n",
       "4  0.439933 -0.128426 -0.329483 -0.118040  0.043788"
      ]
     },
     "execution_count": 58,
     "metadata": {},
     "output_type": "execute_result"
    }
   ],
   "source": [
    "#Visualizing data with PCA \n",
    "\n",
    "pca=PCA(n_components=5)\n",
    "x_pca=pca.fit_transform(X_test_df)\n",
    "component_names =[f\"PCA{i+1}\" for i in range (x_pca.shape[1])]\n",
    "x_pca=pd.DataFrame(x_pca, columns= component_names)\n",
    "x_pca.head()"
   ]
  },
  {
   "cell_type": "code",
   "execution_count": 59,
   "metadata": {},
   "outputs": [
    {
     "data": {
      "text/plain": [
       "(151, 5)"
      ]
     },
     "execution_count": 59,
     "metadata": {},
     "output_type": "execute_result"
    }
   ],
   "source": [
    "x_pca.shape"
   ]
  },
  {
   "cell_type": "code",
   "execution_count": 60,
   "metadata": {},
   "outputs": [
    {
     "data": {
      "text/html": [
       "<div>\n",
       "<style scoped>\n",
       "    .dataframe tbody tr th:only-of-type {\n",
       "        vertical-align: middle;\n",
       "    }\n",
       "\n",
       "    .dataframe tbody tr th {\n",
       "        vertical-align: top;\n",
       "    }\n",
       "\n",
       "    .dataframe thead th {\n",
       "        text-align: right;\n",
       "    }\n",
       "</style>\n",
       "<table border=\"1\" class=\"dataframe\">\n",
       "  <thead>\n",
       "    <tr style=\"text-align: right;\">\n",
       "      <th></th>\n",
       "      <th>PCA1</th>\n",
       "      <th>PCA2</th>\n",
       "      <th>PCA3</th>\n",
       "      <th>PCA4</th>\n",
       "      <th>PCA5</th>\n",
       "    </tr>\n",
       "  </thead>\n",
       "  <tbody>\n",
       "    <tr>\n",
       "      <th>00</th>\n",
       "      <td>0.000315</td>\n",
       "      <td>-0.000950</td>\n",
       "      <td>-0.001100</td>\n",
       "      <td>-0.001613</td>\n",
       "      <td>-0.000487</td>\n",
       "    </tr>\n",
       "    <tr>\n",
       "      <th>04</th>\n",
       "      <td>0.096496</td>\n",
       "      <td>-0.020332</td>\n",
       "      <td>-0.015040</td>\n",
       "      <td>0.005933</td>\n",
       "      <td>-0.023289</td>\n",
       "    </tr>\n",
       "    <tr>\n",
       "      <th>04 cmake</th>\n",
       "      <td>0.019176</td>\n",
       "      <td>-0.003972</td>\n",
       "      <td>-0.022597</td>\n",
       "      <td>-0.004806</td>\n",
       "      <td>-0.002254</td>\n",
       "    </tr>\n",
       "    <tr>\n",
       "      <th>04 lts</th>\n",
       "      <td>0.041698</td>\n",
       "      <td>-0.009220</td>\n",
       "      <td>-0.026910</td>\n",
       "      <td>-0.007734</td>\n",
       "      <td>-0.007575</td>\n",
       "    </tr>\n",
       "    <tr>\n",
       "      <th>08</th>\n",
       "      <td>0.002185</td>\n",
       "      <td>-0.000780</td>\n",
       "      <td>0.007014</td>\n",
       "      <td>-0.000772</td>\n",
       "      <td>-0.009031</td>\n",
       "    </tr>\n",
       "    <tr>\n",
       "      <th>...</th>\n",
       "      <td>...</td>\n",
       "      <td>...</td>\n",
       "      <td>...</td>\n",
       "      <td>...</td>\n",
       "      <td>...</td>\n",
       "    </tr>\n",
       "    <tr>\n",
       "      <th>yes cuda</th>\n",
       "      <td>0.041960</td>\n",
       "      <td>-0.017026</td>\n",
       "      <td>-0.046290</td>\n",
       "      <td>-0.020400</td>\n",
       "      <td>-0.009003</td>\n",
       "    </tr>\n",
       "    <tr>\n",
       "      <th>you</th>\n",
       "      <td>0.020606</td>\n",
       "      <td>0.010877</td>\n",
       "      <td>0.055342</td>\n",
       "      <td>0.000209</td>\n",
       "      <td>0.001585</td>\n",
       "    </tr>\n",
       "    <tr>\n",
       "      <th>you get</th>\n",
       "      <td>0.033209</td>\n",
       "      <td>0.017425</td>\n",
       "      <td>0.059482</td>\n",
       "      <td>0.011505</td>\n",
       "      <td>0.026638</td>\n",
       "    </tr>\n",
       "    <tr>\n",
       "      <th>zero</th>\n",
       "      <td>-0.009534</td>\n",
       "      <td>0.016564</td>\n",
       "      <td>-0.003755</td>\n",
       "      <td>0.042381</td>\n",
       "      <td>0.027020</td>\n",
       "    </tr>\n",
       "    <tr>\n",
       "      <th>zou3519</th>\n",
       "      <td>-0.013704</td>\n",
       "      <td>-0.005085</td>\n",
       "      <td>0.005854</td>\n",
       "      <td>-0.003006</td>\n",
       "      <td>0.038838</td>\n",
       "    </tr>\n",
       "  </tbody>\n",
       "</table>\n",
       "<p>1000 rows × 5 columns</p>\n",
       "</div>"
      ],
      "text/plain": [
       "              PCA1      PCA2      PCA3      PCA4      PCA5\n",
       "00        0.000315 -0.000950 -0.001100 -0.001613 -0.000487\n",
       "04        0.096496 -0.020332 -0.015040  0.005933 -0.023289\n",
       "04 cmake  0.019176 -0.003972 -0.022597 -0.004806 -0.002254\n",
       "04 lts    0.041698 -0.009220 -0.026910 -0.007734 -0.007575\n",
       "08        0.002185 -0.000780  0.007014 -0.000772 -0.009031\n",
       "...            ...       ...       ...       ...       ...\n",
       "yes cuda  0.041960 -0.017026 -0.046290 -0.020400 -0.009003\n",
       "you       0.020606  0.010877  0.055342  0.000209  0.001585\n",
       "you get   0.033209  0.017425  0.059482  0.011505  0.026638\n",
       "zero     -0.009534  0.016564 -0.003755  0.042381  0.027020\n",
       "zou3519  -0.013704 -0.005085  0.005854 -0.003006  0.038838\n",
       "\n",
       "[1000 rows x 5 columns]"
      ]
     },
     "execution_count": 60,
     "metadata": {},
     "output_type": "execute_result"
    }
   ],
   "source": [
    "loadings = pd.DataFrame(\n",
    "    pca.components_.T, \n",
    "    columns=component_names,  \n",
    "    index=feature_names  \n",
    ")\n",
    "loadings"
   ]
  },
  {
   "cell_type": "code",
   "execution_count": 61,
   "metadata": {},
   "outputs": [
    {
     "data": {
      "image/png": "[encoded data removed]",
      "text/plain": [
       "<Figure size 1000x600 with 2 Axes>"
      ]
     },
     "metadata": {},
     "output_type": "display_data"
    }
   ],
   "source": [
    "import matplotlib.pyplot as plt\n",
    "import seaborn as sns\n",
    "\n",
    "\n",
    "top_words = loadings.abs().sum(axis=1).sort_values(ascending=False).head(20).index\n",
    "plt.figure(figsize=(10, 6))\n",
    "sns.heatmap(loadings.loc[top_words], annot=True, cmap=\"coolwarm\")\n",
    "plt.title(\"Top Word Contributions to Principal Components\")\n",
    "plt.show()"
   ]
  },
  {
   "cell_type": "code",
   "execution_count": 62,
   "metadata": {},
   "outputs": [],
   "source": [
    "import itertools"
   ]
  },
  {
   "cell_type": "code",
   "execution_count": 65,
   "metadata": {},
   "outputs": [
    {
     "name": "stdout",
     "output_type": "stream",
     "text": [
      "10\n",
      "12\n"
     ]
    },
    {
     "data": {
      "image/png": "[encoded data removed]",
      "text/plain": [
       "<Figure size 1000x1000 with 12 Axes>"
      ]
     },
     "metadata": {},
     "output_type": "display_data"
    }
   ],
   "source": [
    "# Visualizing PCA pairs\n",
    "target = y_test  # Assuming y_train contains class labels\n",
    "\n",
    "# Try all unique pairs of principal components\n",
    "pc_pairs = list(itertools.combinations(component_names, 2))\n",
    "print(len(pc_pairs))\n",
    "\n",
    "fig, axes = plt.subplots(nrows=4, ncols=3, figsize=(10, 10))  # Adjust based on number of PCs\n",
    "axes = axes.flatten()\n",
    "print(len(axes))\n",
    "for i, (pc1, pc2) in enumerate(pc_pairs):\n",
    "    if i >= len(axes):  # Avoid plotting more than available subplots\n",
    "        break\n",
    "    sns.scatterplot(x=x_pca[pc1], y=x_pca[pc2], hue=target, ax=axes[i], palette=\"coolwarm\", alpha=0.7)\n",
    "    axes[i].set_title(f\"{pc1} vs {pc2}\")\n",
    "plt.tight_layout()\n",
    "plt.show()\n",
    "\n",
    "\n"
   ]
  },
  {
   "cell_type": "code",
   "execution_count": 66,
   "metadata": {},
   "outputs": [
    {
     "data": {
      "text/plain": [
       "array([0.04311941, 0.02730008, 0.02378779, 0.02066314, 0.01892892])"
      ]
     },
     "execution_count": 66,
     "metadata": {},
     "output_type": "execute_result"
    }
   ],
   "source": [
    "explained_variance_ratio=pca.explained_variance_ratio_\n",
    "explained_variance_ratio"
   ]
  },
  {
   "cell_type": "code",
   "execution_count": 67,
   "metadata": {},
   "outputs": [
    {
     "data": {
      "text/html": [
       "<div>\n",
       "<style scoped>\n",
       "    .dataframe tbody tr th:only-of-type {\n",
       "        vertical-align: middle;\n",
       "    }\n",
       "\n",
       "    .dataframe tbody tr th {\n",
       "        vertical-align: top;\n",
       "    }\n",
       "\n",
       "    .dataframe thead th {\n",
       "        text-align: right;\n",
       "    }\n",
       "</style>\n",
       "<table border=\"1\" class=\"dataframe\">\n",
       "  <thead>\n",
       "    <tr style=\"text-align: right;\">\n",
       "      <th></th>\n",
       "      <th>PCA1</th>\n",
       "      <th>PCA2</th>\n",
       "      <th>PCA3</th>\n",
       "      <th>PCA4</th>\n",
       "      <th>PCA5</th>\n",
       "    </tr>\n",
       "  </thead>\n",
       "  <tbody>\n",
       "    <tr>\n",
       "      <th>0</th>\n",
       "      <td>4.311941</td>\n",
       "      <td>2.730008</td>\n",
       "      <td>2.378779</td>\n",
       "      <td>2.066314</td>\n",
       "      <td>1.892892</td>\n",
       "    </tr>\n",
       "  </tbody>\n",
       "</table>\n",
       "</div>"
      ],
      "text/plain": [
       "       PCA1      PCA2      PCA3      PCA4      PCA5\n",
       "0  4.311941  2.730008  2.378779  2.066314  1.892892"
      ]
     },
     "execution_count": 67,
     "metadata": {},
     "output_type": "execute_result"
    }
   ],
   "source": [
    "covarianceDF= pd.DataFrame(explained_variance_ratio*100).T\n",
    "covarianceDF.columns=component_names\n",
    "covarianceDF"
   ]
  },
  {
   "cell_type": "markdown",
   "metadata": {},
   "source": [
    "### Result :\n",
    "Result shows PCA capturing little covariance this means that as expected TF IDF generates multiple columns and rows , this means the data shows high multidimensionality\n",
    " Of course its obvious with the shape of the TF-IDF taking over 600 columns but proving this with PCA gives us a better reasoning\n",
    " this means that linear models like Linear Regressions, or SVM would not be performing well, unless somehow we are able to reduce the into smaller weights dimensionality"
   ]
  },
  {
   "cell_type": "markdown",
   "metadata": {},
   "source": [
    "Can we do a sentiment based anlysis of such data ? # Probably not becuase sentiment based analysis \n",
    "    predicts three classification good , neutral , and bad , also I probably dont need to show the whole plot comparison thing\n",
    "    just show the PCA , and maybe switch it up to other than TF IDF and compare the performance of PCA, but this justifies that mmodels like SVM or Linear Regression would not be the perfect fit\n",
    "    as those 2 models can only seperate data that 2 or 3 dimensionality even in nonlinear models both SVM and Linear Regression can only work if those data are seperable in on a differnet hyperplane \n",
    "    if the hyperplane is more than 3 we cant visualize it nor can SVM which relies heavily on sperating data on a linear space "
   ]
  },
  {
   "cell_type": "markdown",
   "metadata": {},
   "source": [
    "Traditional models like Support Vector Machines (SVM) and Linear Regression may not be the most suitable choices for high-dimensional and complex datasets, particularly when the decision boundary is not well-defined in a lower-dimensional space. While SVM can handle nonlinearly separable data by utilizing the kernel trick to project the data into a higher-dimensional feature space, it still fundamentally relies on the existence of a separating hyperplane. If the data cannot be effectively separated even in this transformed space, the model's performance may degrade.\n",
    "\n",
    "Linear regression, by design, assumes a linear relationship between the input features and the target variable. It is inherently unsuitable for complex, high-dimensional data where interactions between variables are nonlinear and cannot be effectively captured through simple linear transformations.\n",
    "\n",
    "Furthermore, while SVM can separate data in higher-dimensional spaces, its effectiveness diminishes when the dimensionality increases significantly. As the feature space expands (e.g., beyond three or four dimensions), challenges such as the curse of dimensionality arise. In very high-dimensional spaces, data points tend to become more sparsely distributed, and the model may struggle to identify a meaningful hyperplane for separation. Although theoretically, SVM can operate in any dimensional space, in practice, it depends on the data being separable in some projected space, which is not always guaranteed.\n",
    "probably lets not make this section too long cause it shouldnt be more than 6 pages"
   ]
  },
  {
   "cell_type": "code",
   "execution_count": 70,
   "metadata": {},
   "outputs": [],
   "source": [
    "import matplotlib.pyplot as plt"
   ]
  },
  {
   "cell_type": "code",
   "execution_count": 82,
   "metadata": {},
   "outputs": [
    {
     "name": "stdout",
     "output_type": "stream",
     "text": [
      "=== Naive Bayes + TF-IDF Results ===\n",
      "Number of repeats:     10\n",
      "Average Accuracy:      0.8115\n",
      "Average Precision:     0.6496\n",
      "Average Recall:        0.5741\n",
      "Average F1 score:      0.5132\n",
      "Average AUC:           0.5741\n",
      "\n",
      "Results have been saved to: ../pytorch_NB.csv\n"
     ]
    }
   ],
   "source": [
    "for repeated_time in range(REPEAT):\n",
    "    # --- 4.1 Split into train/test ---\n",
    "    indices = np.arange(data.shape[0])\n",
    "    train_index, test_index = train_test_split(\n",
    "        indices, test_size=0.2, random_state=repeated_time\n",
    "    )\n",
    "\n",
    "    train_text = data[text_col].iloc[train_index]\n",
    "    test_text = data[text_col].iloc[test_index]\n",
    "\n",
    "    y_train = data['sentiment'].iloc[train_index]\n",
    "    y_test  = data['sentiment'].iloc[test_index]\n",
    "\n",
    "    # --- 4.2 TF-IDF vectorization ---\n",
    "    tfidf = TfidfVectorizer(\n",
    "        ngram_range=(1, 2),\n",
    "        max_features=1000  # Adjust as needed\n",
    "    )\n",
    "    X_train = tfidf.fit_transform(train_text)\n",
    "    X_test = tfidf.transform(test_text)\n",
    "   \n",
    "    # --- 4.3 Naive Bayes model & GridSearch ---\n",
    "    clf = GaussianNB()\n",
    "    grid = GridSearchCV(\n",
    "        clf,\n",
    "        params,\n",
    "        cv=5,              # 5-fold CV (can be changed)\n",
    "        scoring='roc_auc'  # Using roc_auc as the metric for selection\n",
    "    )\n",
    "    grid.fit(X_train.toarray(), y_train)\n",
    "\n",
    "    # Retrieve the best model\n",
    "    best_clf = grid.best_estimator_\n",
    "    best_clf.fit(X_train.toarray(), y_train)\n",
    "\n",
    "    # --- 4.4 Make predictions & evaluate ---\n",
    "    y_pred = best_clf.predict(X_test.toarray())\n",
    "\n",
    "    # Accuracy\n",
    "    acc = accuracy_score(y_test, y_pred)\n",
    "    accuracies.append(acc)\n",
    "\n",
    "    # Precision (macro)\n",
    "    prec = precision_score(y_test, y_pred, average='macro')\n",
    "    precisions.append(prec)\n",
    "\n",
    "    # Recall (macro)\n",
    "    rec = recall_score(y_test, y_pred, average='macro')\n",
    "    recalls.append(rec)\n",
    "\n",
    "    # F1 Score (macro)\n",
    "    f1 = f1_score(y_test, y_pred, average='macro')\n",
    "    f1_scores.append(f1)\n",
    "\n",
    "    # AUC\n",
    "    # If labels are 0/1 only, this works directly.\n",
    "    # If labels are something else, adjust pos_label accordingly.\n",
    "    fpr, tpr, _ = roc_curve(y_test, y_pred, pos_label=1)\n",
    "    auc_val = auc(fpr, tpr)\n",
    "    auc_values.append(auc_val)\n",
    "\n",
    "# --- 4.5 Aggregate results ---\n",
    "final_accuracy  = np.mean(accuracies)\n",
    "final_precision = np.mean(precisions)\n",
    "final_recall    = np.mean(recalls)\n",
    "final_f1        = np.mean(f1_scores)\n",
    "final_auc       = np.mean(auc_values)\n",
    "\n",
    "print(\"=== Naive Bayes + TF-IDF Results ===\")\n",
    "print(f\"Number of repeats:     {REPEAT}\")\n",
    "print(f\"Average Accuracy:      {final_accuracy:.4f}\")\n",
    "print(f\"Average Precision:     {final_precision:.4f}\")\n",
    "print(f\"Average Recall:        {final_recall:.4f}\")\n",
    "print(f\"Average F1 score:      {final_f1:.4f}\")\n",
    "print(f\"Average AUC:           {final_auc:.4f}\")\n",
    "\n",
    "# Save final results to CSV (append mode)\n",
    "try:\n",
    "    # Attempt to check if the file already has a header\n",
    "    existing_data = pd.read_csv(out_csv_name, nrows=1)\n",
    "    header_needed = False\n",
    "except:\n",
    "    header_needed = True\n",
    "\n",
    "df_log = pd.DataFrame(\n",
    "    {\n",
    "        'repeated_times': [REPEAT],\n",
    "        'Accuracy': [final_accuracy],\n",
    "        'Precision': [final_precision],\n",
    "        'Recall': [final_recall],\n",
    "        'F1': [final_f1],\n",
    "        'AUC': [final_auc],\n",
    "        'CV_list(AUC)': [str(auc_values)]\n",
    "    }\n",
    ")\n",
    "\n",
    "df_log.to_csv(out_csv_name, mode='a', header=header_needed, index=False)\n",
    "\n",
    "print(f\"\\nResults have been saved to: {out_csv_name}\")"
   ]
  },
  {
   "cell_type": "code",
   "execution_count": null,
   "metadata": {},
   "outputs": [],
   "source": [
    "#Random Classifier"
   ]
  },
  {
   "cell_type": "code",
   "execution_count": 72,
   "metadata": {},
   "outputs": [],
   "source": [
    "from sklearn.ensemble import RandomForestClassifier\n",
    "from sklearn.model_selection import cross_val_score"
   ]
  },
  {
   "cell_type": "code",
   "execution_count": 86,
   "metadata": {},
   "outputs": [
    {
     "name": "stderr",
     "output_type": "stream",
     "text": [
      "/Users/dwika/miniconda3/envs/fyp/lib/python3.11/site-packages/sklearn/metrics/_classification.py:1565: UndefinedMetricWarning: Precision is ill-defined and being set to 0.0 in labels with no predicted samples. Use `zero_division` parameter to control this behavior.\n",
      "  _warn_prf(average, modifier, f\"{metric.capitalize()} is\", len(result))\n",
      "/Users/dwika/miniconda3/envs/fyp/lib/python3.11/site-packages/sklearn/metrics/_classification.py:1565: UndefinedMetricWarning: Precision is ill-defined and being set to 0.0 in labels with no predicted samples. Use `zero_division` parameter to control this behavior.\n",
      "  _warn_prf(average, modifier, f\"{metric.capitalize()} is\", len(result))\n",
      "/Users/dwika/miniconda3/envs/fyp/lib/python3.11/site-packages/sklearn/metrics/_classification.py:1565: UndefinedMetricWarning: Precision is ill-defined and being set to 0.0 in labels with no predicted samples. Use `zero_division` parameter to control this behavior.\n",
      "  _warn_prf(average, modifier, f\"{metric.capitalize()} is\", len(result))\n"
     ]
    },
    {
     "name": "stdout",
     "output_type": "stream",
     "text": [
      "=== Random Forest + TF-IDF Results ===\n",
      "Number of repeats:     10\n",
      "Average Accuracy:      0.8307\n",
      "Average Precision:     0.6610\n",
      "Average Recall:        0.5565\n",
      "Average F1 score:      0.5080\n",
      "Average AUC:           0.5565\n",
      "\n",
      "Results have been saved to: ../pytorch_NB.csv\n"
     ]
    },
    {
     "name": "stderr",
     "output_type": "stream",
     "text": [
      "/Users/dwika/miniconda3/envs/fyp/lib/python3.11/site-packages/sklearn/metrics/_classification.py:1565: UndefinedMetricWarning: Precision is ill-defined and being set to 0.0 in labels with no predicted samples. Use `zero_division` parameter to control this behavior.\n",
      "  _warn_prf(average, modifier, f\"{metric.capitalize()} is\", len(result))\n"
     ]
    }
   ],
   "source": [
    "for repeated_time in range(REPEAT):\n",
    "    # --- 4.1 Split into train/test ---\n",
    "    indices = np.arange(data.shape[0])\n",
    "    train_index, test_index = train_test_split(\n",
    "        indices, test_size=0.2, random_state=repeated_time\n",
    "    )\n",
    "\n",
    "    train_text = data[text_col].iloc[train_index]\n",
    "    test_text = data[text_col].iloc[test_index]\n",
    "\n",
    "    y_train = data['sentiment'].iloc[train_index]\n",
    "    y_test  = data['sentiment'].iloc[test_index]\n",
    "\n",
    "    # --- 4.2 TF-IDF vectorization ---\n",
    "    tfidf = TfidfVectorizer(\n",
    "        ngram_range=(1, 2),\n",
    "        max_features=1000  # Adjust as needed\n",
    "    )\n",
    "    X_train = tfidf.fit_transform(train_text)\n",
    "    X_test = tfidf.transform(test_text)\n",
    "    randomclassifier=RandomForestClassifier(n_estimators=1000,criterion='entropy',class_weight='balanced',random_state=42)\n",
    "    randomclassifier.fit(X_train,y_train)\n",
    "    y_pred = randomclassifier.predict(X_test.toarray())\n",
    "\n",
    "    # Accuracy\n",
    "    acc = accuracy_score(y_test, y_pred)\n",
    "    accuracies.append(acc)\n",
    "\n",
    "    # Precision (macro)\n",
    "    prec = precision_score(y_test, y_pred, average='macro')\n",
    "    precisions.append(prec)\n",
    "\n",
    "    # Recall (macro)\n",
    "    rec = recall_score(y_test, y_pred, average='macro')\n",
    "    recalls.append(rec)\n",
    "\n",
    "    # F1 Score (macro)\n",
    "    f1 = f1_score(y_test, y_pred, average='macro')\n",
    "    f1_scores.append(f1)\n",
    "\n",
    "    # AUC\n",
    "    # If labels are 0/1 only, this works directly.\n",
    "    # If labels are something else, adjust pos_label accordingly.\n",
    "    fpr, tpr, _ = roc_curve(y_test, y_pred, pos_label=1)\n",
    "    auc_val = auc(fpr, tpr)\n",
    "    auc_values.append(auc_val)\n",
    "\n",
    "# --- 4.5 Aggregate results ---\n",
    "final_accuracy  = np.mean(accuracies)\n",
    "final_precision = np.mean(precisions)\n",
    "final_recall    = np.mean(recalls)\n",
    "final_f1        = np.mean(f1_scores)\n",
    "final_auc       = np.mean(auc_values)\n",
    "\n",
    "print(\"=== Random Forest + TF-IDF Results ===\")\n",
    "print(f\"Number of repeats:     {REPEAT}\")\n",
    "print(f\"Average Accuracy:      {final_accuracy:.4f}\")\n",
    "print(f\"Average Precision:     {final_precision:.4f}\")\n",
    "print(f\"Average Recall:        {final_recall:.4f}\")\n",
    "print(f\"Average F1 score:      {final_f1:.4f}\")\n",
    "print(f\"Average AUC:           {final_auc:.4f}\")\n",
    "\n",
    "# Save final results to CSV (append mode)\n",
    "try:\n",
    "    # Attempt to check if the file already has a header\n",
    "    existing_data = pd.read_csv(out_csv_name, nrows=1)\n",
    "    header_needed = False\n",
    "except:\n",
    "    header_needed = True\n",
    "\n",
    "df_log = pd.DataFrame(\n",
    "    {\n",
    "        'repeated_times': [REPEAT],\n",
    "        'Accuracy': [final_accuracy],\n",
    "        'Precision': [final_precision],\n",
    "        'Recall': [final_recall],\n",
    "        'F1': [final_f1],\n",
    "        'AUC': [final_auc],\n",
    "        'CV_list(AUC)': [str(auc_values)]\n",
    "    }\n",
    ")\n",
    "\n",
    "df_log.to_csv(out_csv_name, mode='a', header=header_needed, index=False)\n",
    "\n",
    "print(f\"\\nResults have been saved to: {out_csv_name}\")"
   ]
  },
  {
   "cell_type": "code",
   "execution_count": null,
   "metadata": {},
   "outputs": [
    {
     "name": "stderr",
     "output_type": "stream",
     "text": [
      "[nltk_data] Downloading package punkt to /Users/dwika/nltk_data...\n",
      "[nltk_data]   Package punkt is already up-to-date!\n",
      "[nltk_data] Downloading package punkt_tab to /Users/dwika/nltk_data...\n",
      "[nltk_data]   Package punkt_tab is already up-to-date!\n"
     ]
    }
   ],
   "source": [
    "import nltk\n",
    "nltk.download('punkt')\n",
    "nltk.download('punkt_tab')\n",
    "from nltk.tokenize import word_tokenize"
   ]
  },
  {
   "cell_type": "code",
   "execution_count": null,
   "metadata": {},
   "outputs": [],
   "source": [
    "\n",
    "datafile = 'Title+Body.csv'\n",
    "\n",
    "# 2) Number of repeated experiments\n",
    "REPEAT = 10\n",
    "\n",
    "# 3) Output CSV file name\n",
    "\n",
    "# ========== Read and clean data ==========\n",
    "data = pd.read_csv(datafile).fillna('')\n",
    "text_col = 'text'\n",
    "\n",
    "# Keep a copy for referencing original data if needed\n",
    "original_data = data.copy()\n",
    "\n",
    "# Text cleaning\n",
    "data[text_col] = data[text_col].apply(remove_html)\n",
    "data[text_col] = data[text_col].apply(remove_emoji)\n",
    "data[text_col] = data[text_col].apply(clean_str)\n",
    "data[text_col] = data[text_col].apply(remove_stopwords)\n",
    "data[text_col]= data[text_col].apply(word_tokenize)\n",
    "\n",
    "\n",
    "\n",
    "\n"
   ]
  },
  {
   "cell_type": "code",
   "execution_count": 135,
   "metadata": {},
   "outputs": [
    {
     "data": {
      "text/plain": [
       "['python',\n",
       " 'doc',\n",
       " 'global',\n",
       " 'op',\n",
       " 'carried',\n",
       " 'source',\n",
       " 'bug',\n",
       " 'missing',\n",
       " 'many',\n",
       " 'global',\n",
       " 'operators',\n",
       " 'reproduce',\n",
       " 'expected',\n",
       " 'behavior',\n",
       " 'global',\n",
       " 'ops',\n",
       " 'contain',\n",
       " 'valid',\n",
       " 's.',\n",
       " 'environment',\n",
       " 'pytorch',\n",
       " 'version',\n",
       " '1.0.1.post2',\n",
       " 'debug',\n",
       " 'build',\n",
       " 'cuda',\n",
       " 'used',\n",
       " 'build',\n",
       " 'pytorch',\n",
       " '9.0.176',\n",
       " 'os',\n",
       " 'ubuntu',\n",
       " '16.04.5',\n",
       " 'lts',\n",
       " 'gcc',\n",
       " 'version',\n",
       " 'ubuntu',\n",
       " '5.4.0',\n",
       " '6ubuntu1',\n",
       " '16.04.11',\n",
       " '5.4.0',\n",
       " '20160609',\n",
       " 'cmake',\n",
       " 'version',\n",
       " 'version',\n",
       " '3.9.4',\n",
       " 'python',\n",
       " 'version',\n",
       " '3.6',\n",
       " 'cuda',\n",
       " 'available',\n",
       " 'yes',\n",
       " 'cuda',\n",
       " 'runtime',\n",
       " 'version',\n",
       " 'could',\n",
       " 'collect',\n",
       " 'gpu',\n",
       " 'models',\n",
       " 'configuration',\n",
       " 'gpu',\n",
       " '0',\n",
       " 'geforce',\n",
       " 'gtx',\n",
       " 'titan',\n",
       " 'black',\n",
       " 'gpu',\n",
       " '1',\n",
       " 'geforce',\n",
       " 'gtx',\n",
       " 'titan',\n",
       " 'black',\n",
       " 'gpu',\n",
       " '2',\n",
       " 'geforce',\n",
       " 'gtx',\n",
       " 'titan',\n",
       " 'black',\n",
       " 'gpu',\n",
       " '3',\n",
       " 'geforce',\n",
       " 'gtx',\n",
       " 'titan',\n",
       " 'black',\n",
       " 'nvidia',\n",
       " 'driver',\n",
       " 'version',\n",
       " '390.30',\n",
       " 'cudnn',\n",
       " 'version',\n",
       " 'usr',\n",
       " 'lib',\n",
       " 'x86',\n",
       " '64',\n",
       " 'linux',\n",
       " 'gnu',\n",
       " 'libcudnn.so.7.1.1']"
      ]
     },
     "execution_count": 135,
     "metadata": {},
     "output_type": "execute_result"
    }
   ],
   "source": [
    "data[text_col][0]"
   ]
  },
  {
   "cell_type": "markdown",
   "metadata": {},
   "source": [
    "# Found result from cleaning data \n",
    "We found that some empty string and comma or dot are still in the file \n",
    "So write a code to remove it from the list of tokenized words"
   ]
  },
  {
   "cell_type": "code",
   "execution_count": 131,
   "metadata": {},
   "outputs": [],
   "source": [
    "import string"
   ]
  },
  {
   "cell_type": "code",
   "execution_count": 132,
   "metadata": {},
   "outputs": [],
   "source": [
    "def remove_punkt(tokens):\n",
    "    punctuation_set = set(string.punctuation)\n",
    "    return [word for word in tokens if not all(char in punctuation_set for char in word)]"
   ]
  },
  {
   "cell_type": "code",
   "execution_count": 133,
   "metadata": {},
   "outputs": [],
   "source": [
    "data[text_col]= data[text_col].apply(remove_punkt)"
   ]
  },
  {
   "cell_type": "code",
   "execution_count": 134,
   "metadata": {},
   "outputs": [
    {
     "data": {
      "text/plain": [
       "['python',\n",
       " 'doc',\n",
       " 'global',\n",
       " 'op',\n",
       " 'carried',\n",
       " 'source',\n",
       " 'bug',\n",
       " 'missing',\n",
       " 'many',\n",
       " 'global',\n",
       " 'operators',\n",
       " 'reproduce',\n",
       " 'expected',\n",
       " 'behavior',\n",
       " 'global',\n",
       " 'ops',\n",
       " 'contain',\n",
       " 'valid',\n",
       " 's.',\n",
       " 'environment',\n",
       " 'pytorch',\n",
       " 'version',\n",
       " '1.0.1.post2',\n",
       " 'debug',\n",
       " 'build',\n",
       " 'cuda',\n",
       " 'used',\n",
       " 'build',\n",
       " 'pytorch',\n",
       " '9.0.176',\n",
       " 'os',\n",
       " 'ubuntu',\n",
       " '16.04.5',\n",
       " 'lts',\n",
       " 'gcc',\n",
       " 'version',\n",
       " 'ubuntu',\n",
       " '5.4.0',\n",
       " '6ubuntu1',\n",
       " '16.04.11',\n",
       " '5.4.0',\n",
       " '20160609',\n",
       " 'cmake',\n",
       " 'version',\n",
       " 'version',\n",
       " '3.9.4',\n",
       " 'python',\n",
       " 'version',\n",
       " '3.6',\n",
       " 'cuda',\n",
       " 'available',\n",
       " 'yes',\n",
       " 'cuda',\n",
       " 'runtime',\n",
       " 'version',\n",
       " 'could',\n",
       " 'collect',\n",
       " 'gpu',\n",
       " 'models',\n",
       " 'configuration',\n",
       " 'gpu',\n",
       " '0',\n",
       " 'geforce',\n",
       " 'gtx',\n",
       " 'titan',\n",
       " 'black',\n",
       " 'gpu',\n",
       " '1',\n",
       " 'geforce',\n",
       " 'gtx',\n",
       " 'titan',\n",
       " 'black',\n",
       " 'gpu',\n",
       " '2',\n",
       " 'geforce',\n",
       " 'gtx',\n",
       " 'titan',\n",
       " 'black',\n",
       " 'gpu',\n",
       " '3',\n",
       " 'geforce',\n",
       " 'gtx',\n",
       " 'titan',\n",
       " 'black',\n",
       " 'nvidia',\n",
       " 'driver',\n",
       " 'version',\n",
       " '390.30',\n",
       " 'cudnn',\n",
       " 'version',\n",
       " 'usr',\n",
       " 'lib',\n",
       " 'x86',\n",
       " '64',\n",
       " 'linux',\n",
       " 'gnu',\n",
       " 'libcudnn.so.7.1.1']"
      ]
     },
     "execution_count": 134,
     "metadata": {},
     "output_type": "execute_result"
    }
   ],
   "source": [
    "data[text_col][0] "
   ]
  },
  {
   "cell_type": "markdown",
   "metadata": {},
   "source": [
    "# Stemming"
   ]
  },
  {
   "cell_type": "markdown",
   "metadata": {},
   "source": [
    " The paper mentions the following:\n",
    " After tokenization and stop word removal,\n",
    "the words were stemmed into their lemma (root). For example,\n",
    "the words: ‘execution’, ‘executed’, ‘executable’ were stemmed\n",
    "into their lemma ‘execute’.\n",
    "In Table 2, we have represented the output generated by\n",
    "our pre-processing steps for two example sentences. In the\n",
    "first row of the table, words such as ‘after’, ‘to’, and ‘the’\n",
    "have been removed. Subsequently, the word ‘added’ has been\n",
    "stemmed into ‘add’ (the root word). Similarly, the second row\n",
    "has been pre-processed into ‘Prime face be found’."
   ]
  },
  {
   "cell_type": "markdown",
   "metadata": {},
   "source": [
    "That would really mean lemmatization"
   ]
  },
  {
   "cell_type": "code",
   "execution_count": 136,
   "metadata": {},
   "outputs": [],
   "source": [
    "from nltk.stem import WordNetLemmatizer"
   ]
  },
  {
   "cell_type": "code",
   "execution_count": 139,
   "metadata": {},
   "outputs": [
    {
     "name": "stderr",
     "output_type": "stream",
     "text": [
      "[nltk_data] Downloading package wordnet to /Users/dwika/nltk_data...\n"
     ]
    },
    {
     "data": {
      "text/plain": [
       "True"
      ]
     },
     "execution_count": 139,
     "metadata": {},
     "output_type": "execute_result"
    }
   ],
   "source": [
    "nltk.download('wordnet')"
   ]
  },
  {
   "cell_type": "code",
   "execution_count": 140,
   "metadata": {},
   "outputs": [],
   "source": [
    "\n",
    "lemmatizer = WordNetLemmatizer()\n",
    "def lemmatize_tokens(tokens):\n",
    "    \"\"\"\n",
    "    Lemmatizes a list of tokenized words.\n",
    "    :param tokens: List of tokenized words\n",
    "    :return: List of lemmatized words\n",
    "    \"\"\"\n",
    "    return [lemmatizer.lemmatize(word) for word in tokens]\n"
   ]
  },
  {
   "cell_type": "code",
   "execution_count": 141,
   "metadata": {},
   "outputs": [],
   "source": [
    "data[text_col]= data[text_col].apply(lemmatize_tokens)"
   ]
  },
  {
   "cell_type": "markdown",
   "metadata": {},
   "source": [
    "##  WMD approach "
   ]
  },
  {
   "cell_type": "code",
   "execution_count": 143,
   "metadata": {},
   "outputs": [],
   "source": [
    "import gensim.downloader as api\n",
    "from gensim.models import KeyedVectors\n",
    "import nltk\n",
    "from nltk.tokenize import word_tokenize"
   ]
  },
  {
   "cell_type": "code",
   "execution_count": 144,
   "metadata": {},
   "outputs": [
    {
     "name": "stdout",
     "output_type": "stream",
     "text": [
      "[==================================================] 100.0% 1662.8/1662.8MB downloaded\n"
     ]
    }
   ],
   "source": [
    "model = api.load('word2vec-google-news-300')"
   ]
  },
  {
   "cell_type": "code",
   "execution_count": 165,
   "metadata": {},
   "outputs": [],
   "source": [
    "def classify_document(X_test_withYPred,model):\n",
    "    min_distance = float('inf')\n",
    "    best_class=1\n",
    "    X_pred_result=X_test_withYPred.copy()\n",
    "    for id_pred, text_pred,_ in X_pred_result.itertuples(index=False,name=None):\n",
    "        for id_real, text_real,sentiment_real in X_test_withYPred.itertuples(index=False,name=None):\n",
    "            if id_pred == id_real: #avoid comparing to the same docs\n",
    "                continue\n",
    "            distance = model.wmdistance(text_pred,text_real)\n",
    "        \n",
    "            if distance < min_distance:\n",
    "            #get the smallest distance and change the label\n",
    "                min_distance = distance\n",
    "                best_class = sentiment_real\n",
    "        X_pred_result.loc[X_pred_result[\"id\"] == id_pred, \"sentiment\"] = best_class\n",
    "        best_class=0 #reset the classes for the next for loop\n",
    "        min_distance=float('inf')\n",
    "\n",
    "    return X_pred_result"
   ]
  },
  {
   "cell_type": "code",
   "execution_count": 163,
   "metadata": {},
   "outputs": [
    {
     "data": {
      "text/html": [
       "<div>\n",
       "<style scoped>\n",
       "    .dataframe tbody tr th:only-of-type {\n",
       "        vertical-align: middle;\n",
       "    }\n",
       "\n",
       "    .dataframe tbody tr th {\n",
       "        vertical-align: top;\n",
       "    }\n",
       "\n",
       "    .dataframe thead th {\n",
       "        text-align: right;\n",
       "    }\n",
       "</style>\n",
       "<table border=\"1\" class=\"dataframe\">\n",
       "  <thead>\n",
       "    <tr style=\"text-align: right;\">\n",
       "      <th></th>\n",
       "      <th>id</th>\n",
       "      <th>text</th>\n",
       "      <th>sentiment</th>\n",
       "    </tr>\n",
       "  </thead>\n",
       "  <tbody>\n",
       "    <tr>\n",
       "      <th>0</th>\n",
       "      <td>688</td>\n",
       "      <td>[python, doc, global, op, carried, source, bug...</td>\n",
       "      <td>0</td>\n",
       "    </tr>\n",
       "    <tr>\n",
       "      <th>1</th>\n",
       "      <td>616</td>\n",
       "      <td>[dataloader, segmentation, fault, using, mpi, ...</td>\n",
       "      <td>0</td>\n",
       "    </tr>\n",
       "    <tr>\n",
       "      <th>2</th>\n",
       "      <td>322</td>\n",
       "      <td>[torch.from, pil, request, feature, simple, me...</td>\n",
       "      <td>0</td>\n",
       "    </tr>\n",
       "    <tr>\n",
       "      <th>3</th>\n",
       "      <td>241</td>\n",
       "      <td>[torch.halftensor, object, attribute, mean, re...</td>\n",
       "      <td>0</td>\n",
       "    </tr>\n",
       "    <tr>\n",
       "      <th>4</th>\n",
       "      <td>647</td>\n",
       "      <td>[support, dilation, conv1d, conv3d]</td>\n",
       "      <td>0</td>\n",
       "    </tr>\n",
       "    <tr>\n",
       "      <th>...</th>\n",
       "      <td>...</td>\n",
       "      <td>...</td>\n",
       "      <td>...</td>\n",
       "    </tr>\n",
       "    <tr>\n",
       "      <th>747</th>\n",
       "      <td>225</td>\n",
       "      <td>[discussion, recommend, different, file, exten...</td>\n",
       "      <td>0</td>\n",
       "    </tr>\n",
       "    <tr>\n",
       "      <th>748</th>\n",
       "      <td>712</td>\n",
       "      <td>[feature, request, add, support, selu, activat...</td>\n",
       "      <td>0</td>\n",
       "    </tr>\n",
       "    <tr>\n",
       "      <th>749</th>\n",
       "      <td>481</td>\n",
       "      <td>[jit, error, reporting, imported, module, high...</td>\n",
       "      <td>0</td>\n",
       "    </tr>\n",
       "    <tr>\n",
       "      <th>750</th>\n",
       "      <td>348</td>\n",
       "      <td>[libtorch, segmentation, fault, rhel, 7, easy,...</td>\n",
       "      <td>0</td>\n",
       "    </tr>\n",
       "    <tr>\n",
       "      <th>751</th>\n",
       "      <td>448</td>\n",
       "      <td>[tracking, issue, rpc, test, flaky, cc, ezyang...</td>\n",
       "      <td>0</td>\n",
       "    </tr>\n",
       "  </tbody>\n",
       "</table>\n",
       "<p>752 rows × 3 columns</p>\n",
       "</div>"
      ],
      "text/plain": [
       "      id                                               text  sentiment\n",
       "0    688  [python, doc, global, op, carried, source, bug...          0\n",
       "1    616  [dataloader, segmentation, fault, using, mpi, ...          0\n",
       "2    322  [torch.from, pil, request, feature, simple, me...          0\n",
       "3    241  [torch.halftensor, object, attribute, mean, re...          0\n",
       "4    647                [support, dilation, conv1d, conv3d]          0\n",
       "..   ...                                                ...        ...\n",
       "747  225  [discussion, recommend, different, file, exten...          0\n",
       "748  712  [feature, request, add, support, selu, activat...          0\n",
       "749  481  [jit, error, reporting, imported, module, high...          0\n",
       "750  348  [libtorch, segmentation, fault, rhel, 7, easy,...          0\n",
       "751  448  [tracking, issue, rpc, test, flaky, cc, ezyang...          0\n",
       "\n",
       "[752 rows x 3 columns]"
      ]
     },
     "execution_count": 163,
     "metadata": {},
     "output_type": "execute_result"
    }
   ],
   "source": [
    "# X_test= np.array((data[text_col])\n",
    "X_test_with_Y_Pred=pd.DataFrame(\n",
    "    data,\n",
    "    columns=[\"id\",text_col,\"sentiment\"],  \n",
    " \n",
    ")\n",
    "X_test_with_Y_Pred"
   ]
  },
  {
   "cell_type": "code",
   "execution_count": 167,
   "metadata": {},
   "outputs": [],
   "source": [
    "X_result=classify_document(X_test_with_Y_Pred,model)"
   ]
  },
  {
   "cell_type": "code",
   "execution_count": 179,
   "metadata": {},
   "outputs": [],
   "source": [
    "X_result.to_csv(\"word2mov.csv\", index=False)"
   ]
  },
  {
   "cell_type": "code",
   "execution_count": 172,
   "metadata": {},
   "outputs": [
    {
     "data": {
      "text/plain": [
       "0.8683510638297872"
      ]
     },
     "execution_count": 172,
     "metadata": {},
     "output_type": "execute_result"
    }
   ],
   "source": [
    "acc = accuracy_score(X_test_with_Y_Pred['sentiment'], X_result['sentiment'])\n",
    "acc"
   ]
  },
  {
   "cell_type": "code",
   "execution_count": 176,
   "metadata": {},
   "outputs": [],
   "source": [
    "prec = precision_score(X_test_with_Y_Pred['sentiment'], X_result['sentiment'], average='macro')\n",
    "\n",
    "\n",
    "    # Recall (macro)\n",
    "rec = recall_score(X_test_with_Y_Pred['sentiment'], X_result['sentiment'], average='macro')\n",
    "\n",
    "\n",
    "    # F1 Score (macro)\n",
    "f1 = f1_score(X_test_with_Y_Pred['sentiment'], X_result['sentiment'], average='macro')\n",
    "\n",
    "fpr, tpr, _ = roc_curve(X_test_with_Y_Pred['sentiment'], X_result['sentiment'], pos_label=1)\n",
    "auc_val = auc(fpr, tpr)\n"
   ]
  },
  {
   "cell_type": "code",
   "execution_count": 178,
   "metadata": {},
   "outputs": [
    {
     "name": "stdout",
     "output_type": "stream",
     "text": [
      "Accuracy:      0.8684\n",
      "Precision:     0.7005\n",
      "Recall:        0.6950\n",
      "F1 score:      0.6977\n",
      "AUC:           0.6950\n"
     ]
    }
   ],
   "source": [
    "print(f\"Accuracy:      {acc:.4f}\")\n",
    "print(f\"Precision:     {prec:.4f}\")\n",
    "print(f\"Recall:        {rec:.4f}\")\n",
    "print(f\"F1 score:      {f1:.4f}\")\n",
    "print(f\"AUC:           {auc_val:.4f}\")\n"
   ]
  },
  {
   "cell_type": "code",
   "execution_count": null,
   "metadata": {},
   "outputs": [],
   "source": []
  }
 ],
 "metadata": {
  "kernelspec": {
   "display_name": "Python (fyp)",
   "language": "python",
   "name": "fyp"
  },
  "language_info": {
   "codemirror_mode": {
    "name": "ipython",
    "version": 3
   },
   "file_extension": ".py",
   "mimetype": "text/x-python",
   "name": "python",
   "nbconvert_exporter": "python",
   "pygments_lexer": "ipython3",
   "version": "3.11.10"
  }
 },
 "nbformat": 4,
 "nbformat_minor": 2
}
