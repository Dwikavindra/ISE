{
 "cells": [
  {
   "cell_type": "code",
   "execution_count": 65,
   "metadata": {},
   "outputs": [
    {
     "name": "stderr",
     "output_type": "stream",
     "text": [
      "[nltk_data] Downloading package stopwords to /Users/dwika/nltk_data...\n",
      "[nltk_data]   Package stopwords is already up-to-date!\n"
     ]
    }
   ],
   "source": [
    "\n",
    "import pandas as pd\n",
    "import numpy as np\n",
    "import re\n",
    "import math\n",
    "import os\n",
    "import subprocess\n",
    "\n",
    "# Text and feature engineering\n",
    "from sklearn.feature_extraction.text import TfidfVectorizer\n",
    "\n",
    "# Evaluation and tuning\n",
    "from sklearn.model_selection import train_test_split, GridSearchCV\n",
    "from sklearn.metrics import (accuracy_score, precision_score, recall_score,\n",
    "                             f1_score, roc_curve, auc)\n",
    "\n",
    "# Classifier\n",
    "from sklearn.naive_bayes import GaussianNB\n",
    "\n",
    "# Text cleaning & stopwords\n",
    "import nltk\n",
    "nltk.download('stopwords')\n",
    "from nltk.corpus import stopwords\n",
    "import torch\n",
    "import torch.nn"
   ]
  },
  {
   "cell_type": "code",
   "execution_count": 66,
   "metadata": {},
   "outputs": [],
   "source": [
    "from simple_mlp import MLPWithLayerNorm\n",
    "import TextDataset"
   ]
  },
  {
   "cell_type": "code",
   "execution_count": 67,
   "metadata": {},
   "outputs": [
    {
     "name": "stdout",
     "output_type": "stream",
     "text": [
      "Preprocessed DataFrame:\n",
      "                                                   text  sentiment\n",
      "361  How to represent 28x1x1 output dense layer?. !...          0\n",
      "158  Accessing internal states. Hey guys, cool proj...          0\n",
      "477  docs correction: https://keras.io/activations/...          0\n",
      "517  SimpleRNN - Wrong number of dimensions, expect...          0\n",
      "275  merge layer documentation and architecture  . ...          0\n"
     ]
    }
   ],
   "source": [
    "from torch.utils.data import random_split, DataLoader\n",
    "\n",
    "# Step 1: Create the full dataset\n",
    "full_dataset = TextDataset.TextDatasetTFIDF('datasets/keras.csv')\n",
    "\n",
    "# Step 2: Define train/val split sizes\n",
    "val_ratio = 0.2\n",
    "val_size = int(len(full_dataset) * val_ratio)\n",
    "train_size = len(full_dataset) - val_size\n",
    "\n",
    "# Step 3: Split the dataset\n",
    "train_dataset, val_dataset = random_split(full_dataset, [train_size, val_size])\n",
    "\n",
    "# Step 4: Create DataLoaders\n",
    "train_loader = DataLoader(train_dataset, batch_size=32, shuffle=True)\n",
    "val_loader = DataLoader(val_dataset, batch_size=64, shuffle=False)"
   ]
  },
  {
   "cell_type": "code",
   "execution_count": 68,
   "metadata": {},
   "outputs": [],
   "source": [
    "import torch\n",
    "import torch.nn as nn\n",
    "import torch.optim as optim\n",
    "from sklearn.metrics import f1_score, precision_score, recall_score, roc_auc_score, accuracy_score"
   ]
  },
  {
   "cell_type": "code",
   "execution_count": 69,
   "metadata": {},
   "outputs": [],
   "source": [
    "model = MLPWithLayerNorm(input_dim=1000)  # TF-IDF has 1000 features\n",
    "criterion = nn.CrossEntropyLoss()  # You can add weights here if needed\n",
    "optimizer = optim.Adam(model.parameters(), lr=0.001)  # Lowered LR\n"
   ]
  },
  {
   "cell_type": "code",
   "execution_count": 70,
   "metadata": {},
   "outputs": [
    {
     "name": "stdout",
     "output_type": "stream",
     "text": [
      "\n",
      "===== Average Validation Metrics Across Epochs =====\n",
      "Average Accc     : 0.8708\n",
      "Average F1 Score     : 0.5766\n",
      "Average Precision    : 0.7918\n",
      "Average Recall       : 0.4562\n",
      "Average Auc Score     : 0.8785\n"
     ]
    }
   ],
   "source": [
    "accuracy_scores=[]\n",
    "f1_scores = []\n",
    "precision_scores = []\n",
    "recall_scores = []\n",
    "auc_scores=[]\n",
    "epochs=50\n",
    "# ========== Training Loop ==========\n",
    "for epoch in range(epochs):\n",
    "    model.train()\n",
    "    total_train_loss = 0\n",
    "\n",
    "    for batch_X, batch_y in train_loader:\n",
    "        optimizer.zero_grad()\n",
    "        outputs = model(batch_X)\n",
    "        loss = criterion(outputs, batch_y)\n",
    "        loss.backward()\n",
    "        optimizer.step()\n",
    "        total_train_loss += loss.item()\n",
    "\n",
    "    # Validation\n",
    "    model.eval()\n",
    "    all_preds, all_probs, all_targets = [], [], []\n",
    "\n",
    "    with torch.no_grad():\n",
    "        for batch_X, batch_y in val_loader:\n",
    "            outputs = model(batch_X)\n",
    "            probs = torch.softmax(outputs, dim=1)\n",
    "            preds = torch.argmax(probs, dim=1)\n",
    "\n",
    "            all_preds.extend(preds.cpu().numpy())\n",
    "            all_probs.extend(probs[:, 1].cpu().numpy())\n",
    "            all_targets.extend(batch_y.cpu().numpy())\n",
    "\n",
    "    # Metrics\n",
    "    acc = accuracy_score(all_targets, all_preds)\n",
    "    f1 = f1_score(all_targets, all_preds, average='binary')\n",
    "    precision = precision_score(all_targets, all_preds, average='binary')\n",
    "    recall = recall_score(all_targets, all_preds, average='binary')\n",
    "    try:\n",
    "        auc = roc_auc_score(all_targets, all_probs)\n",
    "        auc_scores.append(auc)\n",
    "    except ValueError:\n",
    "        auc = None\n",
    "\n",
    "    # Save metrics\n",
    "    accuracy_scores.append(acc)\n",
    "    f1_scores.append(f1)\n",
    "    precision_scores.append(precision)\n",
    "    recall_scores.append(recall)\n",
    " \n",
    "\n",
    "\n",
    "    # print(f\"Epoch [{epoch+1}/{epochs}]\")\n",
    "    # print(f\"  Train Loss : {total_train_loss:.4f}\")\n",
    "    # print(f\"  Val Acc    : {acc * 100:.2f}%\")\n",
    "    # print(f\"  Val F1     : {f1:.4f}\")\n",
    "    # print(f\"  Val Prec   : {precision:.4f}\")\n",
    "    # print(f\"  Val Recall : {recall:.4f}\")\n",
    "    # print(f\"  Val AUC    : {auc:.4f}\" if auc is not None else \"  Val AUC    : Not computable\")\n",
    "    # print(\"-\" * 40)\n",
    "\n",
    "# ========== Averages ==========\n",
    "avg_acc = sum(accuracy_scores) / len(accuracy_scores)\n",
    "avg_f1 = sum(f1_scores) / len(f1_scores)\n",
    "avg_precision = sum(precision_scores) / len(precision_scores)\n",
    "avg_recall = sum(recall_scores) / len(recall_scores)\n",
    "auc_score=sum(auc_scores) / len(auc_scores)\n",
    "\n",
    "print(\"\\n===== Average Validation Metrics Across Epochs =====\")\n",
    "print(f\"Average Accc     : {avg_acc:.4f}\")\n",
    "print(f\"Average F1 Score     : {avg_f1:.4f}\")\n",
    "print(f\"Average Precision    : {avg_precision:.4f}\")\n",
    "print(f\"Average Recall       : {avg_recall:.4f}\")\n",
    "print(f\"Average Auc Score     : {auc_score:.4f}\")"
   ]
  },
  {
   "cell_type": "markdown",
   "metadata": {},
   "source": [
    "# Prediction on Different Data Set\n"
   ]
  },
  {
   "cell_type": "code",
   "execution_count": 71,
   "metadata": {},
   "outputs": [
    {
     "name": "stdout",
     "output_type": "stream",
     "text": [
      "Preprocessed DataFrame:\n",
      "                                                   text  sentiment\n",
      "941  Graph_def is invalid at node u'ExpandDims': In...          0\n",
      "297  stream_executor/platform/mutex.h doesn't compi...          0\n",
      "271  [Perfomance]Dilated/Atrous Conv implementation...          1\n",
      "774  Tensorflow 2.0 keras load_model does not resto...          0\n",
      "420  Multiprocessing for input pipeline . I have as...          0\n"
     ]
    }
   ],
   "source": [
    "inference_dataset=TextDataset.TextDatasetTFIDF(\"datasets/tensorflow.csv\")\n",
    "inference_loader = DataLoader(inference_dataset, batch_size=64, shuffle=False)"
   ]
  },
  {
   "cell_type": "code",
   "execution_count": 72,
   "metadata": {},
   "outputs": [],
   "source": [
    "model.eval()\n",
    "all_preds = []\n",
    "all_probs = []\n",
    "all_targets = []\n",
    "\n",
    "with torch.no_grad():\n",
    "    for batch_X, batch_y in inference_loader:\n",
    "        outputs = model(batch_X)\n",
    "        probs = torch.softmax(outputs, dim=1)\n",
    "        preds = torch.argmax(probs, dim=1)\n",
    "\n",
    "        all_preds.extend(preds.cpu().numpy())\n",
    "        all_probs.extend(probs[:, 1].cpu().numpy())\n",
    "        all_targets.extend(batch_y.cpu().numpy())\n"
   ]
  },
  {
   "cell_type": "code",
   "execution_count": 73,
   "metadata": {},
   "outputs": [
    {
     "name": "stdout",
     "output_type": "stream",
     "text": [
      "Accuracy  : 0.8013\n",
      "Precision : 0.1600\n",
      "Recall    : 0.0143\n",
      "F1 Score  : 0.0263\n",
      "AUC       : 0.4988\n"
     ]
    }
   ],
   "source": [
    "accuracy = accuracy_score(all_targets, all_preds)\n",
    "precision = precision_score(all_targets, all_preds, average='binary')\n",
    "recall = recall_score(all_targets, all_preds, average='binary')\n",
    "f1 = f1_score(all_targets, all_preds, average='binary')\n",
    "try:\n",
    "    auc = roc_auc_score(all_targets, all_probs)\n",
    "except ValueError:\n",
    "    auc = None\n",
    "\n",
    "print(f\"Accuracy  : {accuracy:.4f}\")\n",
    "print(f\"Precision : {precision:.4f}\")\n",
    "print(f\"Recall    : {recall:.4f}\")\n",
    "print(f\"F1 Score  : {f1:.4f}\")\n",
    "print(f\"AUC       : {auc:.4f}\" if auc is not None else \"AUC: Not computable\")"
   ]
  },
  {
   "cell_type": "markdown",
   "metadata": {},
   "source": [
    "# Trying Tent on Title Body Caffe"
   ]
  },
  {
   "cell_type": "code",
   "execution_count": 74,
   "metadata": {},
   "outputs": [],
   "source": [
    "import tent\n",
    "import TextDataset\n",
    "import importlib\n",
    "# import batch_data_loader\n",
    "importlib.reload(TextDataset)  \n",
    "importlib.reload(tent)\n",
    "import copy"
   ]
  },
  {
   "cell_type": "code",
   "execution_count": 75,
   "metadata": {},
   "outputs": [
    {
     "name": "stdout",
     "output_type": "stream",
     "text": [
      "Preprocessed DataFrame:\n",
      "                                                   text  sentiment\n",
      "941  Graph_def is invalid at node u'ExpandDims': In...          0\n",
      "297  stream_executor/platform/mutex.h doesn't compi...          0\n",
      "271  [Perfomance]Dilated/Atrous Conv implementation...          1\n",
      "774  Tensorflow 2.0 keras load_model does not resto...          0\n",
      "420  Multiprocessing for input pipeline . I have as...          0\n"
     ]
    }
   ],
   "source": [
    "dataset_tent=TextDataset.TextDatasetTFIDF(\"datasets/tensorflow.csv\")\n",
    "dataloader_tent= DataLoader(dataset_tent, batch_size=64, shuffle=True)"
   ]
  },
  {
   "cell_type": "code",
   "execution_count": 76,
   "metadata": {},
   "outputs": [],
   "source": [
    "model_state = copy.deepcopy(model.state_dict())"
   ]
  },
  {
   "cell_type": "code",
   "execution_count": 77,
   "metadata": {},
   "outputs": [
    {
     "name": "stderr",
     "output_type": "stream",
     "text": [
      "Adapting with Tent: 100%|██████████| 24/24 [00:00<00:00, 40.19it/s]"
     ]
    },
    {
     "name": "stdout",
     "output_type": "stream",
     "text": [
      "\n",
      "📊 Test-Time Adaptation (Tent) Metrics:\n",
      "  Accuracy : 81.28%\n",
      "  F1 Score : 0.0071\n",
      "  Precision: 0.5000\n",
      "  Recall   : 0.0036\n",
      "  ROC AUC  : 0.5134\n",
      "{'iteration': 1, 'name': 'keras->mxnet', 'accuracy': 0.812751677852349, 'precision': 0.5, 'recall': 0.0035842293906810036, 'f1': 0.0071174377224199285, 'auc': 0.5133646472449381}\n"
     ]
    },
    {
     "name": "stderr",
     "output_type": "stream",
     "text": [
      "\n"
     ]
    }
   ],
   "source": [
    "model=tent.configureTent(model)\n",
    "result=tent.Tent(model,dataloader_tent,\"keras\",\"mxnet\",1)\n",
    "print(result)\n",
    "tent.reset(model,model_state)"
   ]
  }
 ],
 "metadata": {
  "kernelspec": {
   "display_name": "Python (fyp)",
   "language": "python",
   "name": "fyp"
  },
  "language_info": {
   "codemirror_mode": {
    "name": "ipython",
    "version": 3
   },
   "file_extension": ".py",
   "mimetype": "text/x-python",
   "name": "python",
   "nbconvert_exporter": "python",
   "pygments_lexer": "ipython3",
   "version": "3.11.10"
  }
 },
 "nbformat": 4,
 "nbformat_minor": 2
}
